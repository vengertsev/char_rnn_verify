{
 "cells": [
  {
   "cell_type": "code",
   "execution_count": 1,
   "metadata": {
    "colab": {},
    "colab_type": "code",
    "id": "SD6jBKxuSbrc"
   },
   "outputs": [
    {
     "data": {
      "text/plain": [
       "'\\nTraining and saving models\\n'"
      ]
     },
     "execution_count": 1,
     "metadata": {},
     "output_type": "execute_result"
    }
   ],
   "source": [
    "'''\n",
    "Training and saving models\n",
    "'''"
   ]
  },
  {
   "cell_type": "code",
   "execution_count": 2,
   "metadata": {},
   "outputs": [
    {
     "name": "stdout",
     "output_type": "stream",
     "text": [
      "3.7.3\n"
     ]
    }
   ],
   "source": [
    "from platform import python_version\n",
    "print(python_version())"
   ]
  },
  {
   "cell_type": "code",
   "execution_count": 3,
   "metadata": {
    "colab": {},
    "colab_type": "code",
    "id": "RqIjYfxlSdpJ"
   },
   "outputs": [],
   "source": [
    "import numpy as np\n",
    "import torch\n",
    "from torch import nn\n",
    "import torch.nn.functional as F\n",
    "import os\n",
    "import time\n",
    "from matplotlib import pyplot"
   ]
  },
  {
   "cell_type": "code",
   "execution_count": 4,
   "metadata": {
    "colab": {},
    "colab_type": "code",
    "id": "_H9TD_kVFg1n"
   },
   "outputs": [],
   "source": [
    "# Configs\n",
    "data_folder = \"data/\"\n",
    "train_dataset = data_folder + \"training_dataset/nietzsche.txt\"\n",
    "output_folder_models = data_folder + \"trained_models/\""
   ]
  },
  {
   "cell_type": "code",
   "execution_count": 5,
   "metadata": {
    "colab": {},
    "colab_type": "code",
    "id": "MGaAFjVzHVkG"
   },
   "outputs": [],
   "source": [
    "# Main functions\n",
    "\n",
    "def one_hot_encode(arr, n_labels):\n",
    "    \n",
    "    # Initialize the the encoded array\n",
    "    one_hot = np.zeros((np.multiply(*arr.shape), n_labels), dtype=np.float32)\n",
    "    \n",
    "    # Fill the appropriate elements with ones\n",
    "    one_hot[np.arange(one_hot.shape[0]), arr.flatten()] = 1.\n",
    "    \n",
    "    # Finally reshape it to get back to the original array\n",
    "    one_hot = one_hot.reshape((*arr.shape, n_labels))\n",
    "    \n",
    "    return one_hot\n",
    "  \n",
    "def get_batches(arr, batch_size, seq_length):\n",
    "  '''Create a generator that returns batches of size\n",
    "     batch_size x seq_length from arr.\n",
    "\n",
    "     Arguments\n",
    "     ---------\n",
    "     arr: Array you want to make batches from\n",
    "     batch_size: Batch size, the number of sequences per batch\n",
    "     seq_length: Number of encoded chars in a sequence\n",
    "  '''\n",
    "\n",
    "  batch_size_total = batch_size * seq_length\n",
    "  # total number of batches we can make, // integer division, round down\n",
    "  n_batches = len(arr)//batch_size_total\n",
    "\n",
    "  # Keep only enough characters to make full batches\n",
    "  arr = arr[:n_batches * batch_size_total]\n",
    "  # Reshape into batch_size rows, n. of first row is the batch size, the other lenght is inferred\n",
    "  arr = arr.reshape((batch_size, -1))\n",
    "\n",
    "  # iterate through the array, one sequence at a time\n",
    "  for n in range(0, arr.shape[1], seq_length):\n",
    "      # The features\n",
    "      x = arr[:, n:n+seq_length]\n",
    "      # The targets, shifted by one\n",
    "      y = np.zeros_like(x)\n",
    "      try:\n",
    "          y[:, :-1], y[:, -1] = x[:, 1:], arr[:, n+seq_length]\n",
    "      except IndexError:\n",
    "          y[:, :-1], y[:, -1] = x[:, 1:], arr[:, 0]\n",
    "      yield x, y "
   ]
  },
  {
   "cell_type": "code",
   "execution_count": 6,
   "metadata": {
    "colab": {},
    "colab_type": "code",
    "id": "n-j2F6AHHVhU"
   },
   "outputs": [],
   "source": [
    "class CharRNN(nn.Module):\n",
    "    \n",
    "    def __init__(self, tokens, n_hidden=612, n_layers=4,\n",
    "                               drop_prob=0.5, lr=0.001):\n",
    "        super().__init__()\n",
    "        self.drop_prob = drop_prob\n",
    "        self.n_layers = n_layers\n",
    "        self.n_hidden = n_hidden\n",
    "        self.lr = lr\n",
    "        \n",
    "        # creating character dictionaries\n",
    "        self.chars = tokens\n",
    "        self.int2char = dict(enumerate(self.chars))\n",
    "        self.char2int = {ch: ii for ii, ch in self.int2char.items()}\n",
    "        \n",
    "        ## TODO: define the LSTM\n",
    "        self.lstm = nn.LSTM(len(self.chars), n_hidden, n_layers, \n",
    "                            dropout=drop_prob, batch_first=True)\n",
    "        \n",
    "        ## TODO: define a dropout layer\n",
    "        self.dropout = nn.Dropout(drop_prob)\n",
    "        \n",
    "        ## TODO: define the final, fully-connected output layer\n",
    "        self.fc = nn.Linear(n_hidden, len(self.chars))\n",
    "      \n",
    "    \n",
    "    def forward(self, x, hidden):\n",
    "        ''' Forward pass through the network. \n",
    "            These inputs are x, and the hidden/cell state `hidden`. '''\n",
    "                \n",
    "        ## TODO: Get the outputs and the new hidden state from the lstm\n",
    "        r_output, hidden = self.lstm(x, hidden)\n",
    "        \n",
    "        ## TODO: pass through a dropout layer\n",
    "        out = self.dropout(r_output)\n",
    "        \n",
    "        # Stack up LSTM outputs using view\n",
    "        # you may need to use contiguous to reshape the output\n",
    "        out = out.contiguous().view(-1, self.n_hidden)\n",
    "        \n",
    "        ## TODO: put x through the fully-connected layer\n",
    "        out = self.fc(out)\n",
    "        \n",
    "        # return the final output and the hidden state\n",
    "        return out, hidden\n",
    "    \n",
    "    \n",
    "    def init_hidden(self, batch_size):\n",
    "        ''' Initializes hidden state '''\n",
    "        # Create two new tensors with sizes n_layers x batch_size x n_hidden,\n",
    "        # initialized to zero, for hidden state and cell state of LSTM\n",
    "        weight = next(self.parameters()).data\n",
    "        \n",
    "        if (train_on_gpu):\n",
    "            hidden = (weight.new(self.n_layers, batch_size, self.n_hidden).zero_().cuda(),\n",
    "                  weight.new(self.n_layers, batch_size, self.n_hidden).zero_().cuda())\n",
    "        else:\n",
    "            hidden = (weight.new(self.n_layers, batch_size, self.n_hidden).zero_(),\n",
    "                      weight.new(self.n_layers, batch_size, self.n_hidden).zero_())\n",
    "        \n",
    "        return hidden\n",
    "      \n",
    "      \n",
    "def train(net, data, epochs=10, batch_size=10, seq_length=50, lr=0.001, clip=5, val_frac=0.1, print_every=10):\n",
    "    ''' Training a network \n",
    "    \n",
    "        Arguments\n",
    "        ---------\n",
    "        \n",
    "        net: CharRNN network\n",
    "        data: text data to train the network\n",
    "        epochs: Number of epochs to train\n",
    "        batch_size: Number of mini-sequences per mini-batch, aka batch size\n",
    "        seq_length: Number of character steps per mini-batch\n",
    "        lr: learning rate\n",
    "        clip: gradient clipping\n",
    "        val_frac: Fraction of data to hold out for validation\n",
    "        print_every: Number of steps for printing training and validation loss\n",
    "    \n",
    "    '''\n",
    "    net.train()\n",
    "    \n",
    "    opt = torch.optim.Adam(net.parameters(), lr=lr)\n",
    "    criterion = nn.CrossEntropyLoss()\n",
    "    \n",
    "    # create training and validation data\n",
    "    val_idx = int(len(data)*(1-val_frac))\n",
    "    data, val_data = data[:val_idx], data[val_idx:]\n",
    "    \n",
    "    if(train_on_gpu):\n",
    "        net.cuda()\n",
    "    \n",
    "    counter = 0\n",
    "    n_chars = len(net.chars)\n",
    "    for e in range(epochs):\n",
    "        # initialize hidden state\n",
    "        h = net.init_hidden(batch_size)\n",
    "        \n",
    "        for x, y in get_batches(data, batch_size, seq_length):\n",
    "            counter += 1\n",
    "            \n",
    "            # One-hot encode our data and make them Torch tensors\n",
    "            x = one_hot_encode(x, n_chars)\n",
    "            inputs, targets = torch.from_numpy(x), torch.from_numpy(y)\n",
    "            targets = targets.long() \n",
    "            #print(\"inputs={}\".format(inputs))\n",
    "            #print(\"targets={}\".format(targets))            \n",
    "            \n",
    "            if(train_on_gpu):\n",
    "                inputs, targets = inputs.cuda(), targets.cuda()\n",
    "                \n",
    "            # Creating new variables for the hidden state, otherwise\n",
    "            # we'd backprop through the entire training history\n",
    "            h = tuple([each.data for each in h])\n",
    "\n",
    "            # zero accumulated gradients\n",
    "            net.zero_grad()\n",
    "            \n",
    "            # get the output from the model\n",
    "            output, h = net(inputs, h)\n",
    "            \n",
    "            # calculate the loss and perform backprop\n",
    "            loss = criterion(output, targets.view(batch_size*seq_length))\n",
    "            loss.backward()\n",
    "            # `clip_grad_norm` helps prevent the exploding gradient problem in RNNs / LSTMs.\n",
    "            nn.utils.clip_grad_norm_(net.parameters(), clip)\n",
    "            opt.step()\n",
    "            \n",
    "            # loss stats\n",
    "            if counter % print_every == 0:\n",
    "                # Get validation loss\n",
    "                val_h = net.init_hidden(batch_size)\n",
    "                val_losses = []\n",
    "                net.eval()\n",
    "                for x, y in get_batches(val_data, batch_size, seq_length):\n",
    "                    # One-hot encode our data and make them Torch tensors\n",
    "                    x = one_hot_encode(x, n_chars)\n",
    "                    x, y = torch.from_numpy(x), torch.from_numpy(y)\n",
    "                    \n",
    "                    # Creating new variables for the hidden state, otherwise\n",
    "                    # we'd backprop through the entire training history\n",
    "                    val_h = tuple([each.data for each in val_h])\n",
    "                    \n",
    "                    inputs, targets = x, y\n",
    "                    targets = targets.long() \n",
    "                    if(train_on_gpu):\n",
    "                        inputs, targets = inputs.cuda(), targets.cuda()\n",
    "                        \n",
    "                    output, val_h = net(inputs, val_h)\n",
    "                    val_loss = criterion(output, targets.view(batch_size*seq_length))\n",
    "                \n",
    "                    val_losses.append(val_loss.item())\n",
    "                \n",
    "                    # auc = net.evaluate_auc(self.batch_size)                \n",
    "                \n",
    "                net.train() # reset to train mode after iterationg through validation data\n",
    "                \n",
    "                print(\"Epoch: {}/{}...\".format(e+1, epochs),\n",
    "                      \"Step: {}...\".format(counter),\n",
    "                      \"Loss: {:.4f}...\".format(loss.item()),\n",
    "                      \"Val Loss: {:.4f}\".format(np.mean(val_losses)))\n",
    "                #,   \"AUC: {2:0.3f}\".format(np.mean(auc)))\n",
    "                \n",
    "                hist_val_loss.append(np.mean(val_losses))\n",
    "                hist_loss.append(loss.item())"
   ]
  },
  {
   "cell_type": "code",
   "execution_count": 7,
   "metadata": {
    "colab": {
     "base_uri": "https://localhost:8080/",
     "height": 121
    },
    "colab_type": "code",
    "executionInfo": {
     "elapsed": 368,
     "status": "ok",
     "timestamp": 1567062323926,
     "user": {
      "displayName": "Dmitry Vengertsev",
      "photoUrl": "https://lh3.googleusercontent.com/a-/AAuE7mDYD27Z8EhBcFDMesTklMQKc27chgzd92EokKwqJw=s64",
      "userId": "11039444983797551480"
     },
     "user_tz": 360
    },
    "id": "M03ARFACSdl6",
    "outputId": "771c06ae-1d0d-47e2-8ec8-1569d85d7a5c"
   },
   "outputs": [
    {
     "name": "stdout",
     "output_type": "stream",
     "text": [
      "content_size = 593235\n",
      "Example of content: preface   supposing that truth is a woman what then is there not ground for suspecting that all philosophers, in so far as they have been dogmatists, have failed to understand women that the terrible seriousness and clumsy importunity with which they have usually paid their addresses to truth, have been unskilled and unseemly methods for winning a woman certainly she has never allowed herself to be won and at present every kind of dogma stands with sad and discouraged mien if, indeed, it stands at all for there are scoffers who maintain that it has fallen, that all dogma lies on the ground nay more, that it is at its last gasp. but to speak seriously, there are good grounds for hoping that all dogmatizing in philosophy, whatever solemn, whatever conclusive and decided airs it has assumed, may have been only a noble puerilism and tyronism and probably the time is at hand when it will be once and again understood what has actually sufficed for the basis of such imposing and absolute phil\n",
      "[[[0. 0. 0. 1. 0. 0. 0. 0.]\n",
      "  [0. 0. 0. 0. 0. 1. 0. 0.]\n",
      "  [0. 1. 0. 0. 0. 0. 0. 0.]]]\n"
     ]
    }
   ],
   "source": [
    "# Data preparation\n",
    "f = open(train_dataset, 'r')\n",
    "content = f.read()\n",
    "import re\n",
    "s = re.sub('--', ' ', content)\n",
    "s = re.sub(r'[^\\w\\s\\,\\.]','',s)\n",
    "s = re.sub('\\n', ' ', s)\n",
    "\n",
    "s = str.lower(s)\n",
    "content = s\n",
    "\n",
    "content_size = len(content)\n",
    "print('content_size = {}'.format(content_size))\n",
    "print('Example of content: {}'.format(content[0:1000]))\n",
    "\n",
    "test_seq = np.array([[3, 5, 1]])\n",
    "one_hot = one_hot_encode(test_seq, 8)\n",
    "\n",
    "print(one_hot)\n",
    "\n",
    "text = content\n",
    "\n",
    "# encode the text and map each character to an integer and vice versa\n",
    "\n",
    "# we create two dictionaries:\n",
    "# 1. int2char, which maps integers to characters\n",
    "# 2. char2int, which maps characters to unique integers\n",
    "chars = tuple(set(text))\n",
    "int2char = dict(enumerate(chars))\n",
    "char2int = {ch: ii for ii, ch in int2char.items()}\n",
    "\n",
    "# encode the text\n",
    "encoded = np.array([char2int[ch] for ch in text])\n",
    "\n",
    "\n",
    "batches = get_batches(encoded, 8, 50)\n",
    "x, y = next(batches)"
   ]
  },
  {
   "cell_type": "code",
   "execution_count": 8,
   "metadata": {
    "colab": {
     "base_uri": "https://localhost:8080/",
     "height": 34
    },
    "colab_type": "code",
    "executionInfo": {
     "elapsed": 310,
     "status": "ok",
     "timestamp": 1567062330301,
     "user": {
      "displayName": "Dmitry Vengertsev",
      "photoUrl": "https://lh3.googleusercontent.com/a-/AAuE7mDYD27Z8EhBcFDMesTklMQKc27chgzd92EokKwqJw=s64",
      "userId": "11039444983797551480"
     },
     "user_tz": 360
    },
    "id": "wPomM06KbXwx",
    "outputId": "6ebd44b7-02ba-4d52-9057-e796faf6ed2d"
   },
   "outputs": [
    {
     "name": "stdout",
     "output_type": "stream",
     "text": [
      "Training on GPU!\n"
     ]
    }
   ],
   "source": [
    "train_on_gpu = torch.cuda.is_available()\n",
    "if(train_on_gpu):\n",
    "    print('Training on GPU!')\n",
    "else: \n",
    "    print('No GPU available, training on CPU; consider making n_epochs very small.')\n"
   ]
  },
  {
   "cell_type": "code",
   "execution_count": 9,
   "metadata": {},
   "outputs": [
    {
     "data": {
      "text/plain": [
       "1"
      ]
     },
     "execution_count": 9,
     "metadata": {},
     "output_type": "execute_result"
    }
   ],
   "source": [
    "torch.cuda.device_count()"
   ]
  },
  {
   "cell_type": "code",
   "execution_count": 12,
   "metadata": {
    "colab": {},
    "colab_type": "code",
    "id": "pNgDJZ1UKFib"
   },
   "outputs": [],
   "source": [
    "# Model Training parameters\n",
    "\n",
    "# n_hidden_list = [124, 512, 1024]\n",
    "# n_layers_list = [1,4]\n",
    "# seq_length_list = [80, 160]\n",
    "\n",
    "n_hidden_list = [124]\n",
    "n_layers_list = [4]\n",
    "seq_length_list = [160]"
   ]
  },
  {
   "cell_type": "code",
   "execution_count": 13,
   "metadata": {
    "colab": {},
    "colab_type": "code",
    "id": "0sVaiCtobXtP"
   },
   "outputs": [
    {
     "name": "stdout",
     "output_type": "stream",
     "text": [
      "********** model_124_4_160_50 ************\n",
      "CharRNN(\n",
      "  (lstm): LSTM(44, 124, num_layers=4, batch_first=True, dropout=0.5)\n",
      "  (dropout): Dropout(p=0.5, inplace=False)\n",
      "  (fc): Linear(in_features=124, out_features=44, bias=True)\n",
      ")\n",
      "Epoch: 1/50... Step: 50... Loss: 2.9417... Val Loss: 2.8990\n",
      "Epoch: 2/50... Step: 100... Loss: 2.9173... Val Loss: 2.8940\n",
      "Epoch: 3/50... Step: 150... Loss: 2.9182... Val Loss: 2.8919\n",
      "Epoch: 4/50... Step: 200... Loss: 2.9112... Val Loss: 2.8912\n",
      "Epoch: 5/50... Step: 250... Loss: 2.9004... Val Loss: 2.8907\n",
      "Epoch: 6/50... Step: 300... Loss: 2.9049... Val Loss: 2.8907\n",
      "Epoch: 7/50... Step: 350... Loss: 2.9154... Val Loss: 2.8909\n",
      "Epoch: 8/50... Step: 400... Loss: 2.9097... Val Loss: 2.8908\n",
      "Epoch: 9/50... Step: 450... Loss: 2.8926... Val Loss: 2.8683\n",
      "Epoch: 10/50... Step: 500... Loss: 2.7202... Val Loss: 2.6759\n",
      "Epoch: 11/50... Step: 550... Loss: 2.6332... Val Loss: 2.5757\n",
      "Epoch: 12/50... Step: 600... Loss: 2.5638... Val Loss: 2.4729\n",
      "Epoch: 13/50... Step: 650... Loss: 2.4666... Val Loss: 2.4136\n",
      "Epoch: 14/50... Step: 700... Loss: 2.4359... Val Loss: 2.3680\n",
      "Epoch: 15/50... Step: 750... Loss: 2.4270... Val Loss: 2.3226\n",
      "Epoch: 16/50... Step: 800... Loss: 2.3686... Val Loss: 2.2839\n",
      "Epoch: 17/50... Step: 850... Loss: 2.3557... Val Loss: 2.2585\n",
      "Epoch: 18/50... Step: 900... Loss: 2.3078... Val Loss: 2.2342\n",
      "Epoch: 19/50... Step: 950... Loss: 2.2920... Val Loss: 2.2161\n",
      "Epoch: 20/50... Step: 1000... Loss: 2.2926... Val Loss: 2.1980\n",
      "Epoch: 21/50... Step: 1050... Loss: 2.2589... Val Loss: 2.1822\n",
      "Epoch: 22/50... Step: 1100... Loss: 2.2701... Val Loss: 2.1678\n",
      "Epoch: 23/50... Step: 1150... Loss: 2.2372... Val Loss: 2.1527\n",
      "Epoch: 24/50... Step: 1200... Loss: 2.2490... Val Loss: 2.1413\n",
      "Epoch: 25/50... Step: 1250... Loss: 2.2287... Val Loss: 2.1312\n",
      "Epoch: 25/50... Step: 1300... Loss: 2.1908... Val Loss: 2.1184\n",
      "Epoch: 26/50... Step: 1350... Loss: 2.2113... Val Loss: 2.1061\n",
      "Epoch: 27/50... Step: 1400... Loss: 2.1799... Val Loss: 2.0956\n",
      "Epoch: 28/50... Step: 1450... Loss: 2.1925... Val Loss: 2.0859\n",
      "Epoch: 29/50... Step: 1500... Loss: 2.1890... Val Loss: 2.0809\n",
      "Epoch: 30/50... Step: 1550... Loss: 2.1707... Val Loss: 2.0705\n",
      "Epoch: 31/50... Step: 1600... Loss: 2.1608... Val Loss: 2.0583\n",
      "Epoch: 32/50... Step: 1650... Loss: 2.1901... Val Loss: 2.0495\n",
      "Epoch: 33/50... Step: 1700... Loss: 2.1374... Val Loss: 2.0414\n",
      "Epoch: 34/50... Step: 1750... Loss: 2.1360... Val Loss: 2.0313\n",
      "Epoch: 35/50... Step: 1800... Loss: 2.1202... Val Loss: 2.0225\n",
      "Epoch: 36/50... Step: 1850... Loss: 2.1271... Val Loss: 2.0137\n",
      "Epoch: 37/50... Step: 1900... Loss: 2.1391... Val Loss: 2.0041\n",
      "Epoch: 38/50... Step: 1950... Loss: 2.1040... Val Loss: 1.9922\n",
      "Epoch: 39/50... Step: 2000... Loss: 2.1065... Val Loss: 1.9822\n",
      "Epoch: 40/50... Step: 2050... Loss: 2.1239... Val Loss: 1.9739\n",
      "Epoch: 41/50... Step: 2100... Loss: 2.0962... Val Loss: 1.9621\n",
      "Epoch: 42/50... Step: 2150... Loss: 2.0942... Val Loss: 1.9505\n",
      "Epoch: 43/50... Step: 2200... Loss: 2.0667... Val Loss: 1.9420\n",
      "Epoch: 44/50... Step: 2250... Loss: 2.0552... Val Loss: 1.9310\n",
      "Epoch: 45/50... Step: 2300... Loss: 2.0679... Val Loss: 1.9228\n",
      "Epoch: 46/50... Step: 2350... Loss: 2.0311... Val Loss: 1.9131\n",
      "Epoch: 47/50... Step: 2400... Loss: 2.0502... Val Loss: 1.9044\n",
      "Epoch: 48/50... Step: 2450... Loss: 2.0167... Val Loss: 1.8950\n",
      "Epoch: 49/50... Step: 2500... Loss: 2.0293... Val Loss: 1.8885\n",
      "Epoch: 50/50... Step: 2550... Loss: 2.0053... Val Loss: 1.8790\n",
      "Epoch: 50/50... Step: 2600... Loss: 1.9816... Val Loss: 1.8700\n"
     ]
    },
    {
     "data": {
      "image/png": "[encoded data removed]",
      "text/plain": [
       "<Figure size 432x288 with 1 Axes>"
      ]
     },
     "metadata": {
      "needs_background": "light"
     },
     "output_type": "display_data"
    },
    {
     "data": {
      "image/png": "[encoded data removed]",
      "text/plain": [
       "<Figure size 432x288 with 1 Axes>"
      ]
     },
     "metadata": {
      "needs_background": "light"
     },
     "output_type": "display_data"
    }
   ],
   "source": [
    "batch_size = 64\n",
    "# seq_length = 160 # max length of sequence\n",
    "n_epochs = 50 \n",
    "\n",
    "for n_hidden in n_hidden_list:\n",
    "  for n_layers in n_layers_list:\n",
    "    for seq_length in seq_length_list:\n",
    "      model_name = \"model_{}_{}_{}_{}\".format(n_hidden, n_layers, seq_length, n_epochs)\n",
    "      print(\"********** {} ************\".format(model_name))\n",
    "      hist_loss = []\n",
    "      hist_val_loss = []\n",
    "\n",
    "      net = CharRNN(chars, n_hidden, n_layers)\n",
    "      print(net)\n",
    "      # train the model\n",
    "      train(net, encoded, epochs=n_epochs, batch_size=batch_size, seq_length=seq_length, lr=0.001, print_every=50)\n",
    "      \n",
    "      pyplot.plot(hist_loss)\n",
    "      pyplot.show()\n",
    "\n",
    "      pyplot.plot(hist_val_loss)\n",
    "      pyplot.show()\n",
    "      \n",
    "      checkpoint = {'n_hidden': net.n_hidden,\n",
    "              'n_layers': net.n_layers,\n",
    "              'state_dict': net.state_dict(),\n",
    "              'tokens': net.chars}\n",
    "\n",
    "      with open(output_folder_models+model_name, 'wb') as f:\n",
    "          torch.save(checkpoint, f)"
   ]
  },
  {
   "cell_type": "code",
   "execution_count": 14,
   "metadata": {},
   "outputs": [],
   "source": [
    "def count_parameters(model):\n",
    "    return sum(p.numel() for p in model.parameters() if p.requires_grad)"
   ]
  },
  {
   "cell_type": "code",
   "execution_count": 15,
   "metadata": {
    "colab": {},
    "colab_type": "code",
    "id": "BeDuez0rLkc-"
   },
   "outputs": [
    {
     "data": {
      "text/plain": [
       "461820"
      ]
     },
     "execution_count": 15,
     "metadata": {},
     "output_type": "execute_result"
    }
   ],
   "source": [
    "count_parameters(net)"
   ]
  },
  {
   "cell_type": "code",
   "execution_count": 16,
   "metadata": {},
   "outputs": [
    {
     "data": {
      "text/plain": [
       "__main__.CharRNN"
      ]
     },
     "execution_count": 16,
     "metadata": {},
     "output_type": "execute_result"
    }
   ],
   "source": [
    "type(net)"
   ]
  },
  {
   "cell_type": "markdown",
   "metadata": {
    "colab_type": "text",
    "id": "od4Qn6sJLlEt"
   },
   "source": [
    "# Appendix"
   ]
  },
  {
   "cell_type": "code",
   "execution_count": null,
   "metadata": {
    "colab": {},
    "colab_type": "code",
    "id": "8bhdMUkacvH9"
   },
   "outputs": [],
   "source": [
    "def predict(net, char, h=None, top_k=None):\n",
    "        ''' Given a character, predict the next character.\n",
    "            Returns the predicted character and the hidden state.\n",
    "        '''\n",
    "        \n",
    "        # tensor inputs\n",
    "        x = np.array([[net.char2int[char]]])\n",
    "        x = one_hot_encode(x, len(net.chars))\n",
    "        inputs = torch.from_numpy(x)\n",
    "        \n",
    "        if(train_on_gpu):\n",
    "            inputs = inputs.cuda()\n",
    "        \n",
    "        # detach hidden state from history\n",
    "        h = tuple([each.data for each in h])\n",
    "        # get the output of the model\n",
    "        out, h = net(inputs, h)\n",
    "\n",
    "        # get the character probabilities\n",
    "        # apply softmax to get p probabilities for the likely next character giving x\n",
    "        p = F.softmax(out, dim=1).data\n",
    "        if(train_on_gpu):\n",
    "            p = p.cpu() # move to cpu\n",
    "        \n",
    "        \n",
    "        # keep probability to use later\n",
    "        prob = p.numpy().squeeze()\n",
    "        char_index = np.argmax(prob)\n",
    "        char_pred = net.int2char[char_index]\n",
    "        prob_pred = prob[char_index]\n",
    "        return char_pred, h, prob_pred"
   ]
  },
  {
   "cell_type": "code",
   "execution_count": null,
   "metadata": {
    "colab": {
     "base_uri": "https://localhost:8080/",
     "height": 364
    },
    "colab_type": "code",
    "executionInfo": {
     "elapsed": 245,
     "status": "ok",
     "timestamp": 1566772681834,
     "user": {
      "displayName": "Dmitry Vengertsev",
      "photoUrl": "https://lh3.googleusercontent.com/a-/AAuE7mDYD27Z8EhBcFDMesTklMQKc27chgzd92EokKwqJw=s64",
      "userId": "11039444983797551480"
     },
     "user_tz": 360
    },
    "id": "i-98qMhKsEXu",
    "outputId": "ff923b23-1e84-4857-92c7-7effd52ffbe3"
   },
   "outputs": [
    {
     "name": "stdout",
     "output_type": "stream",
     "text": [
      "ch = b, char = e, prob = 0.30611371994018555\n",
      "ch = u, char = l, prob = 0.5654222965240479\n",
      "ch = t, char =  , prob = 0.5635764002799988\n",
      "ch =  , char = a, prob = 0.1304537057876587\n",
      "ch = t, char = h, prob = 0.6685751080513\n",
      "ch = o, char =  , prob = 0.925091028213501\n",
      "ch =  , char = t, prob = 0.14843431115150452\n",
      "ch = s, char = a, prob = 0.27939751744270325\n",
      "ch = p, char = e, prob = 0.5872915387153625\n",
      "ch = e, char = a, prob = 0.9448623657226562\n",
      "ch = a, char = k, prob = 0.9943780303001404\n",
      "ch = k, char =  , prob = 0.919374942779541\n",
      "ch =  , char = o, prob = 0.5279476046562195\n",
      "ch = s, char = o, prob = 0.3095758259296417\n",
      "ch = e, char = e, prob = 0.3643374443054199\n",
      "ch = r, char = v, prob = 0.669789731502533\n",
      "ch = i, char = o, prob = 0.886081337928772\n",
      "ch = o, char = u, prob = 0.9984220266342163\n",
      "ch = u, char = s, prob = 0.9993937015533447\n",
      "time taken to predict: 0.02683401107788086\n"
     ]
    }
   ],
   "source": [
    "t1 = time.time()\n",
    "prime = 'but to speak seriou'\n",
    "chars = [ch for ch in prime]\n",
    "h = net.init_hidden(1)\n",
    "for ch in prime:\n",
    "  char, h, prob = predict(net, ch, h)\n",
    "  print(\"ch = {}, char = {}, prob = {}\".format(ch, char, prob))\n",
    "\n",
    "print(\"time taken to predict: {}\".format(time.time()-t1))    "
   ]
  },
  {
   "cell_type": "code",
   "execution_count": null,
   "metadata": {
    "colab": {
     "base_uri": "https://localhost:8080/",
     "height": 35
    },
    "colab_type": "code",
    "executionInfo": {
     "elapsed": 261,
     "status": "ok",
     "timestamp": 1566771584761,
     "user": {
      "displayName": "Dmitry Vengertsev",
      "photoUrl": "https://lh3.googleusercontent.com/a-/AAuE7mDYD27Z8EhBcFDMesTklMQKc27chgzd92EokKwqJw=s64",
      "userId": "11039444983797551480"
     },
     "user_tz": 360
    },
    "id": "1BFa_SPpsElz",
    "outputId": "a2d5fda6-53de-4a0c-b99b-ce964292baf7"
   },
   "outputs": [
    {
     "data": {
      "text/plain": [
       "5.833333333333332"
      ]
     },
     "execution_count": 134,
     "metadata": {
      "tags": []
     },
     "output_type": "execute_result"
    }
   ],
   "source": [
    "0.015*1.4*1000000/60/60"
   ]
  },
  {
   "cell_type": "code",
   "execution_count": null,
   "metadata": {
    "colab": {},
    "colab_type": "code",
    "id": "D6DDA0WQ7OW9"
   },
   "outputs": [],
   "source": [
    "# LOADING \n",
    "# Here we have loaded in a model that trained over 20 epochs `rnn_20_epoch.net`\n",
    "with open('rnn_20_epoch.net', 'rb') as f:\n",
    "    checkpoint = torch.load(f)\n",
    "    \n",
    "loaded = CharRNN(checkpoint['tokens'], n_hidden=checkpoint['n_hidden'], n_layers=checkpoint['n_layers'])\n",
    "loaded.load_state_dict(checkpoint['state_dict'])"
   ]
  }
 ],
 "metadata": {
  "accelerator": "GPU",
  "colab": {
   "collapsed_sections": [],
   "name": "train_char_rnn.ipynb",
   "provenance": [],
   "toc_visible": true,
   "version": "0.3.2"
  },
  "kernelspec": {
   "display_name": "Python 3",
   "language": "python",
   "name": "python3"
  },
  "language_info": {
   "codemirror_mode": {
    "name": "ipython",
    "version": 3
   },
   "file_extension": ".py",
   "mimetype": "text/x-python",
   "name": "python",
   "nbconvert_exporter": "python",
   "pygments_lexer": "ipython3",
   "version": "3.7.4"
  }
 },
 "nbformat": 4,
 "nbformat_minor": 4
}
