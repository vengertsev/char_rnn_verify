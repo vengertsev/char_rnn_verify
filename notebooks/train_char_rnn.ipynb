{
  "nbformat": 4,
  "nbformat_minor": 0,
  "metadata": {
    "colab": {
      "name": "train_char_rnn.ipynb",
      "version": "0.3.2",
      "provenance": [],
      "collapsed_sections": [],
      "toc_visible": true
    },
    "kernelspec": {
      "name": "python3",
      "display_name": "Python 3"
    },
    "accelerator": "GPU"
  },
  "cells": [
    {
      "cell_type": "code",
      "metadata": {
        "id": "SD6jBKxuSbrc",
        "colab_type": "code",
        "colab": {}
      },
      "source": [
        "'''\n",
        "Training and saving models\n",
        "'''"
      ],
      "execution_count": 0,
      "outputs": []
    },
    {
      "cell_type": "code",
      "metadata": {
        "id": "5dKrW0XoELV_",
        "colab_type": "code",
        "colab": {
          "base_uri": "https://localhost:8080/",
          "height": 121
        },
        "outputId": "a364afb5-c396-4f00-c82a-64e0ba59cf7f"
      },
      "source": [
        "# Mount drive\n",
        "from google.colab import drive\n",
        "drive.mount('/content/drive/') "
      ],
      "execution_count": 5,
      "outputs": [
        {
          "output_type": "stream",
          "text": [
            "Go to this URL in a browser: https://accounts.google.com/o/oauth2/auth?client_id=947318989803-6bn6qk8qdgf4n4g3pfee6491hc0brc4i.apps.googleusercontent.com&redirect_uri=urn%3Aietf%3Awg%3Aoauth%3A2.0%3Aoob&scope=email%20https%3A%2F%2Fwww.googleapis.com%2Fauth%2Fdocs.test%20https%3A%2F%2Fwww.googleapis.com%2Fauth%2Fdrive%20https%3A%2F%2Fwww.googleapis.com%2Fauth%2Fdrive.photos.readonly%20https%3A%2F%2Fwww.googleapis.com%2Fauth%2Fpeopleapi.readonly&response_type=code\n",
            "\n",
            "Enter your authorization code:\n",
            "··········\n",
            "Mounted at /content/drive/\n"
          ],
          "name": "stdout"
        }
      ]
    },
    {
      "cell_type": "code",
      "metadata": {
        "id": "RqIjYfxlSdpJ",
        "colab_type": "code",
        "colab": {}
      },
      "source": [
        "import numpy as np\n",
        "import torch\n",
        "from torch import nn\n",
        "import torch.nn.functional as F\n",
        "import os\n",
        "import time\n",
        "from matplotlib import pyplot"
      ],
      "execution_count": 0,
      "outputs": []
    },
    {
      "cell_type": "code",
      "metadata": {
        "id": "_H9TD_kVFg1n",
        "colab_type": "code",
        "colab": {}
      },
      "source": [
        "# Configs\n",
        "data_folder = \"/content/drive/My Drive/TensorSMC/check_char_lstm/data/\"\n",
        "train_dataset = data_folder + \"training_dataset/nietzsche.txt\"\n",
        "output_folder_models = data_folder + \"trained_models/\""
      ],
      "execution_count": 0,
      "outputs": []
    },
    {
      "cell_type": "code",
      "metadata": {
        "id": "MGaAFjVzHVkG",
        "colab_type": "code",
        "colab": {}
      },
      "source": [
        "# Main functions\n",
        "\n",
        "def one_hot_encode(arr, n_labels):\n",
        "    \n",
        "    # Initialize the the encoded array\n",
        "    one_hot = np.zeros((np.multiply(*arr.shape), n_labels), dtype=np.float32)\n",
        "    \n",
        "    # Fill the appropriate elements with ones\n",
        "    one_hot[np.arange(one_hot.shape[0]), arr.flatten()] = 1.\n",
        "    \n",
        "    # Finally reshape it to get back to the original array\n",
        "    one_hot = one_hot.reshape((*arr.shape, n_labels))\n",
        "    \n",
        "    return one_hot\n",
        "  \n",
        "def get_batches(arr, batch_size, seq_length):\n",
        "  '''Create a generator that returns batches of size\n",
        "     batch_size x seq_length from arr.\n",
        "\n",
        "     Arguments\n",
        "     ---------\n",
        "     arr: Array you want to make batches from\n",
        "     batch_size: Batch size, the number of sequences per batch\n",
        "     seq_length: Number of encoded chars in a sequence\n",
        "  '''\n",
        "\n",
        "  batch_size_total = batch_size * seq_length\n",
        "  # total number of batches we can make, // integer division, round down\n",
        "  n_batches = len(arr)//batch_size_total\n",
        "\n",
        "  # Keep only enough characters to make full batches\n",
        "  arr = arr[:n_batches * batch_size_total]\n",
        "  # Reshape into batch_size rows, n. of first row is the batch size, the other lenght is inferred\n",
        "  arr = arr.reshape((batch_size, -1))\n",
        "\n",
        "  # iterate through the array, one sequence at a time\n",
        "  for n in range(0, arr.shape[1], seq_length):\n",
        "      # The features\n",
        "      x = arr[:, n:n+seq_length]\n",
        "      # The targets, shifted by one\n",
        "      y = np.zeros_like(x)\n",
        "      try:\n",
        "          y[:, :-1], y[:, -1] = x[:, 1:], arr[:, n+seq_length]\n",
        "      except IndexError:\n",
        "          y[:, :-1], y[:, -1] = x[:, 1:], arr[:, 0]\n",
        "      yield x, y \n",
        "\n",
        "#when we call get batches we are going \n",
        "#to create a generator that iteratest through our array and returns x, y with yield command"
      ],
      "execution_count": 0,
      "outputs": []
    },
    {
      "cell_type": "code",
      "metadata": {
        "id": "n-j2F6AHHVhU",
        "colab_type": "code",
        "colab": {}
      },
      "source": [
        "class CharRNN(nn.Module):\n",
        "    \n",
        "    def __init__(self, tokens, n_hidden=612, n_layers=4,\n",
        "                               drop_prob=0.5, lr=0.001):\n",
        "        super().__init__()\n",
        "        self.drop_prob = drop_prob\n",
        "        self.n_layers = n_layers\n",
        "        self.n_hidden = n_hidden\n",
        "        self.lr = lr\n",
        "        \n",
        "        # creating character dictionaries\n",
        "        self.chars = tokens\n",
        "        self.int2char = dict(enumerate(self.chars))\n",
        "        self.char2int = {ch: ii for ii, ch in self.int2char.items()}\n",
        "        \n",
        "        ## TODO: define the LSTM\n",
        "        self.lstm = nn.LSTM(len(self.chars), n_hidden, n_layers, \n",
        "                            dropout=drop_prob, batch_first=True)\n",
        "        \n",
        "        ## TODO: define a dropout layer\n",
        "        self.dropout = nn.Dropout(drop_prob)\n",
        "        \n",
        "        ## TODO: define the final, fully-connected output layer\n",
        "        self.fc = nn.Linear(n_hidden, len(self.chars))\n",
        "      \n",
        "    \n",
        "    def forward(self, x, hidden):\n",
        "        ''' Forward pass through the network. \n",
        "            These inputs are x, and the hidden/cell state `hidden`. '''\n",
        "                \n",
        "        ## TODO: Get the outputs and the new hidden state from the lstm\n",
        "        r_output, hidden = self.lstm(x, hidden)\n",
        "        \n",
        "        ## TODO: pass through a dropout layer\n",
        "        out = self.dropout(r_output)\n",
        "        \n",
        "        # Stack up LSTM outputs using view\n",
        "        # you may need to use contiguous to reshape the output\n",
        "        out = out.contiguous().view(-1, self.n_hidden)\n",
        "        \n",
        "        ## TODO: put x through the fully-connected layer\n",
        "        out = self.fc(out)\n",
        "        \n",
        "        # return the final output and the hidden state\n",
        "        return out, hidden\n",
        "    \n",
        "    \n",
        "    def init_hidden(self, batch_size):\n",
        "        ''' Initializes hidden state '''\n",
        "        # Create two new tensors with sizes n_layers x batch_size x n_hidden,\n",
        "        # initialized to zero, for hidden state and cell state of LSTM\n",
        "        weight = next(self.parameters()).data\n",
        "        \n",
        "        if (train_on_gpu):\n",
        "            hidden = (weight.new(self.n_layers, batch_size, self.n_hidden).zero_().cuda(),\n",
        "                  weight.new(self.n_layers, batch_size, self.n_hidden).zero_().cuda())\n",
        "        else:\n",
        "            hidden = (weight.new(self.n_layers, batch_size, self.n_hidden).zero_(),\n",
        "                      weight.new(self.n_layers, batch_size, self.n_hidden).zero_())\n",
        "        \n",
        "        return hidden\n",
        "      \n",
        "      \n",
        "def train(net, data, epochs=10, batch_size=10, seq_length=50, lr=0.001, clip=5, val_frac=0.1, print_every=10):\n",
        "    ''' Training a network \n",
        "    \n",
        "        Arguments\n",
        "        ---------\n",
        "        \n",
        "        net: CharRNN network\n",
        "        data: text data to train the network\n",
        "        epochs: Number of epochs to train\n",
        "        batch_size: Number of mini-sequences per mini-batch, aka batch size\n",
        "        seq_length: Number of character steps per mini-batch\n",
        "        lr: learning rate\n",
        "        clip: gradient clipping\n",
        "        val_frac: Fraction of data to hold out for validation\n",
        "        print_every: Number of steps for printing training and validation loss\n",
        "    \n",
        "    '''\n",
        "    net.train()\n",
        "    \n",
        "    opt = torch.optim.Adam(net.parameters(), lr=lr)\n",
        "    criterion = nn.CrossEntropyLoss()\n",
        "    \n",
        "    # create training and validation data\n",
        "    val_idx = int(len(data)*(1-val_frac))\n",
        "    data, val_data = data[:val_idx], data[val_idx:]\n",
        "    \n",
        "    if(train_on_gpu):\n",
        "        net.cuda()\n",
        "    \n",
        "    counter = 0\n",
        "    n_chars = len(net.chars)\n",
        "    for e in range(epochs):\n",
        "        # initialize hidden state\n",
        "        h = net.init_hidden(batch_size)\n",
        "        \n",
        "        for x, y in get_batches(data, batch_size, seq_length):\n",
        "            counter += 1\n",
        "            \n",
        "            # One-hot encode our data and make them Torch tensors\n",
        "            x = one_hot_encode(x, n_chars)\n",
        "            inputs, targets = torch.from_numpy(x), torch.from_numpy(y)\n",
        "            \n",
        "            if(train_on_gpu):\n",
        "                inputs, targets = inputs.cuda(), targets.cuda()\n",
        "\n",
        "            # Creating new variables for the hidden state, otherwise\n",
        "            # we'd backprop through the entire training history\n",
        "            h = tuple([each.data for each in h])\n",
        "\n",
        "            # zero accumulated gradients\n",
        "            net.zero_grad()\n",
        "            \n",
        "            # get the output from the model\n",
        "            output, h = net(inputs, h)\n",
        "            \n",
        "            # calculate the loss and perform backprop\n",
        "            loss = criterion(output, targets.view(batch_size*seq_length))\n",
        "            loss.backward()\n",
        "            # `clip_grad_norm` helps prevent the exploding gradient problem in RNNs / LSTMs.\n",
        "            nn.utils.clip_grad_norm_(net.parameters(), clip)\n",
        "            opt.step()\n",
        "            \n",
        "            # loss stats\n",
        "            if counter % print_every == 0:\n",
        "                # Get validation loss\n",
        "                val_h = net.init_hidden(batch_size)\n",
        "                val_losses = []\n",
        "                net.eval()\n",
        "                for x, y in get_batches(val_data, batch_size, seq_length):\n",
        "                    # One-hot encode our data and make them Torch tensors\n",
        "                    x = one_hot_encode(x, n_chars)\n",
        "                    x, y = torch.from_numpy(x), torch.from_numpy(y)\n",
        "                    \n",
        "                    # Creating new variables for the hidden state, otherwise\n",
        "                    # we'd backprop through the entire training history\n",
        "                    val_h = tuple([each.data for each in val_h])\n",
        "                    \n",
        "                    inputs, targets = x, y\n",
        "                    if(train_on_gpu):\n",
        "                        inputs, targets = inputs.cuda(), targets.cuda()\n",
        "\n",
        "                    output, val_h = net(inputs, val_h)\n",
        "                    val_loss = criterion(output, targets.view(batch_size*seq_length))\n",
        "                \n",
        "                    val_losses.append(val_loss.item())\n",
        "                \n",
        "                net.train() # reset to train mode after iterationg through validation data\n",
        "                \n",
        "                print(\"Epoch: {}/{}...\".format(e+1, epochs),\n",
        "                      \"Step: {}...\".format(counter),\n",
        "                      \"Loss: {:.4f}...\".format(loss.item()),\n",
        "                      \"Val Loss: {:.4f}\".format(np.mean(val_losses)))\n",
        "                \n",
        "                hist_val_loss.append(np.mean(val_losses))\n",
        "                hist_loss.append(loss.item())"
      ],
      "execution_count": 0,
      "outputs": []
    },
    {
      "cell_type": "code",
      "metadata": {
        "id": "M03ARFACSdl6",
        "colab_type": "code",
        "outputId": "771c06ae-1d0d-47e2-8ec8-1569d85d7a5c",
        "colab": {
          "base_uri": "https://localhost:8080/",
          "height": 121
        }
      },
      "source": [
        "# Data preparation\n",
        "f = open(train_dataset, 'r')\n",
        "content = f.read()\n",
        "import re\n",
        "s = re.sub('--', ' ', content)\n",
        "s = re.sub(r'[^\\w\\s\\,\\.]','',s)\n",
        "s = re.sub('\\n', ' ', s)\n",
        "\n",
        "s = str.lower(s)\n",
        "content = s\n",
        "\n",
        "content_size = len(content)\n",
        "print('content_size = {}'.format(content_size))\n",
        "print('Example of content: {}'.format(content[0:1000]))\n",
        "\n",
        "test_seq = np.array([[3, 5, 1]])\n",
        "one_hot = one_hot_encode(test_seq, 8)\n",
        "\n",
        "print(one_hot)\n",
        "\n",
        "text = content\n",
        "\n",
        "# encode the text and map each character to an integer and vice versa\n",
        "\n",
        "# we create two dictionaries:\n",
        "# 1. int2char, which maps integers to characters\n",
        "# 2. char2int, which maps characters to unique integers\n",
        "chars = tuple(set(text))\n",
        "int2char = dict(enumerate(chars))\n",
        "char2int = {ch: ii for ii, ch in int2char.items()}\n",
        "\n",
        "# encode the text\n",
        "encoded = np.array([char2int[ch] for ch in text])\n",
        "\n",
        "\n",
        "batches = get_batches(encoded, 8, 50)\n",
        "x, y = next(batches)"
      ],
      "execution_count": 15,
      "outputs": [
        {
          "output_type": "stream",
          "text": [
            "content_size = 593218\n",
            "Example of content: preface   supposing that truth is a woman what then is there not ground for suspecting that all philosophers, in so far as they have been dogmatists, have failed to understand women that the terrible seriousness and clumsy importunity with which they have usually paid their addresses to truth, have been unskilled and unseemly methods for winning a woman certainly she has never allowed herself to be won and at present every kind of dogma stands with sad and discouraged mien if, indeed, it stands at all for there are scoffers who maintain that it has fallen, that all dogma lies on the ground nay more, that it is at its last gasp. but to speak seriously, there are good grounds for hoping that all dogmatizing in philosophy, whatever solemn, whatever conclusive and decided airs it has assumed, may have been only a noble puerilism and tyronism and probably the time is at hand when it will be once and again understood what has actually sufficed for the basis of such imposing and absolute phil\n",
            "[[[0. 0. 0. 1. 0. 0. 0. 0.]\n",
            "  [0. 0. 0. 0. 0. 1. 0. 0.]\n",
            "  [0. 1. 0. 0. 0. 0. 0. 0.]]]\n"
          ],
          "name": "stdout"
        }
      ]
    },
    {
      "cell_type": "code",
      "metadata": {
        "id": "saJuq9HSbX1e",
        "colab_type": "code",
        "colab": {}
      },
      "source": [
        ""
      ],
      "execution_count": 0,
      "outputs": []
    },
    {
      "cell_type": "code",
      "metadata": {
        "id": "wPomM06KbXwx",
        "colab_type": "code",
        "outputId": "6ebd44b7-02ba-4d52-9057-e796faf6ed2d",
        "colab": {
          "base_uri": "https://localhost:8080/",
          "height": 34
        }
      },
      "source": [
        "train_on_gpu = torch.cuda.is_available()\n",
        "if(train_on_gpu):\n",
        "    print('Training on GPU!')\n",
        "else: \n",
        "    print('No GPU available, training on CPU; consider making n_epochs very small.')\n"
      ],
      "execution_count": 16,
      "outputs": [
        {
          "output_type": "stream",
          "text": [
            "Training on GPU!\n"
          ],
          "name": "stdout"
        }
      ]
    },
    {
      "cell_type": "code",
      "metadata": {
        "id": "pNgDJZ1UKFib",
        "colab_type": "code",
        "colab": {}
      },
      "source": [
        "# Model Training parameters\n",
        "\n",
        "n_hidden_list = [124, 512, 1024]\n",
        "n_layers_list = [1,4]\n",
        "seq_length_list = [80, 160]"
      ],
      "execution_count": 0,
      "outputs": []
    },
    {
      "cell_type": "code",
      "metadata": {
        "id": "0sVaiCtobXtP",
        "colab_type": "code",
        "colab": {
          "base_uri": "https://localhost:8080/",
          "height": 1000
        },
        "outputId": "d190404e-d8dc-4b49-a2ae-b8496100fdc5"
      },
      "source": [
        "# Model parameters\n",
        "# n_hidden=512\n",
        "# n_layers=4\n",
        "\n",
        "batch_size = 64\n",
        "# seq_length = 160 # max length of sequence\n",
        "n_epochs = 50 \n",
        "\n",
        "for n_hidden in n_hidden_list:\n",
        "  for n_layers in n_layers_list:\n",
        "    for seq_length in seq_length_list:\n",
        "      model_name = \"model_{}_{}_{}_{}\".format(n_hidden, n_layers, seq_length, n_epochs)\n",
        "      print(\"********** {} ************\".format(model_name))\n",
        "      hist_loss = []\n",
        "      hist_val_loss = []\n",
        "\n",
        "      net = CharRNN(chars, n_hidden, n_layers)\n",
        "      print(net)\n",
        "      # train the model\n",
        "      train(net, encoded, epochs=n_epochs, batch_size=batch_size, seq_length=seq_length, lr=0.001, print_every=50)\n",
        "      \n",
        "      pyplot.plot(hist_loss)\n",
        "      pyplot.show()\n",
        "\n",
        "      pyplot.plot(hist_val_loss)\n",
        "      pyplot.show()\n",
        "      \n",
        "      checkpoint = {'n_hidden': net.n_hidden,\n",
        "              'n_layers': net.n_layers,\n",
        "              'state_dict': net.state_dict(),\n",
        "              'tokens': net.chars}\n",
        "\n",
        "      with open(output_folder_models+model_name, 'wb') as f:\n",
        "          torch.save(checkpoint, f)"
      ],
      "execution_count": 0,
      "outputs": [
        {
          "output_type": "stream",
          "text": [
            "********** model_124_1_80_50 ************\n"
          ],
          "name": "stdout"
        },
        {
          "output_type": "stream",
          "text": [
            "/usr/local/lib/python3.6/dist-packages/torch/nn/modules/rnn.py:54: UserWarning: dropout option adds dropout after all but last recurrent layer, so non-zero dropout expects num_layers greater than 1, but got dropout=0.5 and num_layers=1\n",
            "  \"num_layers={}\".format(dropout, num_layers))\n"
          ],
          "name": "stderr"
        },
        {
          "output_type": "stream",
          "text": [
            "CharRNN(\n",
            "  (lstm): LSTM(41, 124, batch_first=True, dropout=0.5)\n",
            "  (dropout): Dropout(p=0.5)\n",
            "  (fc): Linear(in_features=124, out_features=41, bias=True)\n",
            ")\n",
            "Epoch: 1/50... Step: 50... Loss: 2.9128... Val Loss: 2.8876\n",
            "Epoch: 1/50... Step: 100... Loss: 2.8626... Val Loss: 2.8310\n",
            "Epoch: 2/50... Step: 150... Loss: 2.7103... Val Loss: 2.6811\n",
            "Epoch: 2/50... Step: 200... Loss: 2.5596... Val Loss: 2.5152\n",
            "Epoch: 3/50... Step: 250... Loss: 2.4527... Val Loss: 2.4051\n",
            "Epoch: 3/50... Step: 300... Loss: 2.3983... Val Loss: 2.3377\n",
            "Epoch: 4/50... Step: 350... Loss: 2.3535... Val Loss: 2.2895\n",
            "Epoch: 4/50... Step: 400... Loss: 2.3065... Val Loss: 2.2488\n",
            "Epoch: 5/50... Step: 450... Loss: 2.3032... Val Loss: 2.2159\n",
            "Epoch: 5/50... Step: 500... Loss: 2.2620... Val Loss: 2.1888\n",
            "Epoch: 6/50... Step: 550... Loss: 2.2199... Val Loss: 2.1664\n",
            "Epoch: 6/50... Step: 600... Loss: 2.2160... Val Loss: 2.1414\n",
            "Epoch: 7/50... Step: 650... Loss: 2.1788... Val Loss: 2.1194\n",
            "Epoch: 7/50... Step: 700... Loss: 2.2091... Val Loss: 2.0994\n",
            "Epoch: 8/50... Step: 750... Loss: 2.1750... Val Loss: 2.0819\n",
            "Epoch: 8/50... Step: 800... Loss: 2.1629... Val Loss: 2.0648\n",
            "Epoch: 9/50... Step: 850... Loss: 2.1319... Val Loss: 2.0482\n",
            "Epoch: 9/50... Step: 900... Loss: 2.1307... Val Loss: 2.0321\n",
            "Epoch: 10/50... Step: 950... Loss: 2.1061... Val Loss: 2.0180\n",
            "Epoch: 10/50... Step: 1000... Loss: 2.0883... Val Loss: 2.0053\n",
            "Epoch: 11/50... Step: 1050... Loss: 2.0668... Val Loss: 1.9907\n",
            "Epoch: 11/50... Step: 1100... Loss: 2.0709... Val Loss: 1.9798\n",
            "Epoch: 12/50... Step: 1150... Loss: 2.0601... Val Loss: 1.9634\n",
            "Epoch: 12/50... Step: 1200... Loss: 2.0701... Val Loss: 1.9511\n",
            "Epoch: 13/50... Step: 1250... Loss: 1.9845... Val Loss: 1.9385\n",
            "Epoch: 13/50... Step: 1300... Loss: 2.0424... Val Loss: 1.9278\n",
            "Epoch: 13/50... Step: 1350... Loss: 1.9904... Val Loss: 1.9156\n",
            "Epoch: 14/50... Step: 1400... Loss: 2.0197... Val Loss: 1.9049\n",
            "Epoch: 14/50... Step: 1450... Loss: 1.9805... Val Loss: 1.8941\n",
            "Epoch: 15/50... Step: 1500... Loss: 2.0037... Val Loss: 1.8828\n",
            "Epoch: 15/50... Step: 1550... Loss: 2.0187... Val Loss: 1.8758\n",
            "Epoch: 16/50... Step: 1600... Loss: 1.9707... Val Loss: 1.8657\n",
            "Epoch: 16/50... Step: 1650... Loss: 1.9685... Val Loss: 1.8565\n",
            "Epoch: 17/50... Step: 1700... Loss: 1.9656... Val Loss: 1.8468\n",
            "Epoch: 17/50... Step: 1750... Loss: 1.9512... Val Loss: 1.8384\n",
            "Epoch: 18/50... Step: 1800... Loss: 1.9289... Val Loss: 1.8291\n",
            "Epoch: 18/50... Step: 1850... Loss: 1.9218... Val Loss: 1.8204\n",
            "Epoch: 19/50... Step: 1900... Loss: 1.9206... Val Loss: 1.8111\n",
            "Epoch: 19/50... Step: 1950... Loss: 1.9364... Val Loss: 1.8046\n",
            "Epoch: 20/50... Step: 2000... Loss: 1.9020... Val Loss: 1.7949\n",
            "Epoch: 20/50... Step: 2050... Loss: 1.8856... Val Loss: 1.7880\n",
            "Epoch: 21/50... Step: 2100... Loss: 1.8612... Val Loss: 1.7807\n",
            "Epoch: 21/50... Step: 2150... Loss: 1.8970... Val Loss: 1.7737\n",
            "Epoch: 22/50... Step: 2200... Loss: 1.8994... Val Loss: 1.7693\n",
            "Epoch: 22/50... Step: 2250... Loss: 1.8818... Val Loss: 1.7592\n",
            "Epoch: 23/50... Step: 2300... Loss: 1.8260... Val Loss: 1.7522\n",
            "Epoch: 23/50... Step: 2350... Loss: 1.8382... Val Loss: 1.7457\n",
            "Epoch: 24/50... Step: 2400... Loss: 1.8485... Val Loss: 1.7401\n",
            "Epoch: 24/50... Step: 2450... Loss: 1.8308... Val Loss: 1.7345\n",
            "Epoch: 25/50... Step: 2500... Loss: 1.8412... Val Loss: 1.7274\n",
            "Epoch: 25/50... Step: 2550... Loss: 1.8081... Val Loss: 1.7236\n",
            "Epoch: 25/50... Step: 2600... Loss: 1.8272... Val Loss: 1.7162\n",
            "Epoch: 26/50... Step: 2650... Loss: 1.8126... Val Loss: 1.7111\n",
            "Epoch: 26/50... Step: 2700... Loss: 1.7976... Val Loss: 1.7043\n",
            "Epoch: 27/50... Step: 2750... Loss: 1.8122... Val Loss: 1.7011\n",
            "Epoch: 27/50... Step: 2800... Loss: 1.7905... Val Loss: 1.6953\n",
            "Epoch: 28/50... Step: 2850... Loss: 1.8135... Val Loss: 1.6897\n",
            "Epoch: 28/50... Step: 2900... Loss: 1.7785... Val Loss: 1.6853\n",
            "Epoch: 29/50... Step: 2950... Loss: 1.7868... Val Loss: 1.6795\n",
            "Epoch: 29/50... Step: 3000... Loss: 1.7870... Val Loss: 1.6771\n",
            "Epoch: 30/50... Step: 3050... Loss: 1.8082... Val Loss: 1.6707\n",
            "Epoch: 30/50... Step: 3100... Loss: 1.7574... Val Loss: 1.6673\n",
            "Epoch: 31/50... Step: 3150... Loss: 1.7420... Val Loss: 1.6619\n",
            "Epoch: 31/50... Step: 3200... Loss: 1.7906... Val Loss: 1.6589\n",
            "Epoch: 32/50... Step: 3250... Loss: 1.7323... Val Loss: 1.6535\n",
            "Epoch: 32/50... Step: 3300... Loss: 1.7883... Val Loss: 1.6494\n",
            "Epoch: 33/50... Step: 3350... Loss: 1.7577... Val Loss: 1.6464\n",
            "Epoch: 33/50... Step: 3400... Loss: 1.7766... Val Loss: 1.6421\n",
            "Epoch: 34/50... Step: 3450... Loss: 1.7184... Val Loss: 1.6393\n",
            "Epoch: 34/50... Step: 3500... Loss: 1.7125... Val Loss: 1.6343\n",
            "Epoch: 35/50... Step: 3550... Loss: 1.7375... Val Loss: 1.6324\n",
            "Epoch: 35/50... Step: 3600... Loss: 1.7076... Val Loss: 1.6277\n",
            "Epoch: 36/50... Step: 3650... Loss: 1.7338... Val Loss: 1.6238\n",
            "Epoch: 36/50... Step: 3700... Loss: 1.7238... Val Loss: 1.6216\n",
            "Epoch: 37/50... Step: 3750... Loss: 1.7072... Val Loss: 1.6163\n",
            "Epoch: 37/50... Step: 3800... Loss: 1.7320... Val Loss: 1.6151\n",
            "Epoch: 38/50... Step: 3850... Loss: 1.6619... Val Loss: 1.6106\n",
            "Epoch: 38/50... Step: 3900... Loss: 1.7295... Val Loss: 1.6109\n",
            "Epoch: 38/50... Step: 3950... Loss: 1.6870... Val Loss: 1.6044\n",
            "Epoch: 39/50... Step: 4000... Loss: 1.7141... Val Loss: 1.6023\n",
            "Epoch: 39/50... Step: 4050... Loss: 1.6791... Val Loss: 1.5981\n",
            "Epoch: 40/50... Step: 4100... Loss: 1.7413... Val Loss: 1.5969\n",
            "Epoch: 40/50... Step: 4150... Loss: 1.7206... Val Loss: 1.5928\n",
            "Epoch: 41/50... Step: 4200... Loss: 1.6935... Val Loss: 1.5893\n",
            "Epoch: 41/50... Step: 4250... Loss: 1.7173... Val Loss: 1.5899\n",
            "Epoch: 42/50... Step: 4300... Loss: 1.6803... Val Loss: 1.5845\n",
            "Epoch: 42/50... Step: 4350... Loss: 1.6970... Val Loss: 1.5828\n",
            "Epoch: 43/50... Step: 4400... Loss: 1.6740... Val Loss: 1.5796\n",
            "Epoch: 43/50... Step: 4450... Loss: 1.6776... Val Loss: 1.5772\n",
            "Epoch: 44/50... Step: 4500... Loss: 1.7014... Val Loss: 1.5740\n",
            "Epoch: 44/50... Step: 4550... Loss: 1.6953... Val Loss: 1.5724\n",
            "Epoch: 45/50... Step: 4600... Loss: 1.6667... Val Loss: 1.5683\n",
            "Epoch: 45/50... Step: 4650... Loss: 1.6375... Val Loss: 1.5686\n",
            "Epoch: 46/50... Step: 4700... Loss: 1.6377... Val Loss: 1.5659\n",
            "Epoch: 46/50... Step: 4750... Loss: 1.7054... Val Loss: 1.5637\n",
            "Epoch: 47/50... Step: 4800... Loss: 1.6785... Val Loss: 1.5616\n",
            "Epoch: 47/50... Step: 4850... Loss: 1.6795... Val Loss: 1.5580\n",
            "Epoch: 48/50... Step: 4900... Loss: 1.6060... Val Loss: 1.5571\n",
            "Epoch: 48/50... Step: 4950... Loss: 1.6257... Val Loss: 1.5539\n",
            "Epoch: 49/50... Step: 5000... Loss: 1.6495... Val Loss: 1.5507\n",
            "Epoch: 49/50... Step: 5050... Loss: 1.6148... Val Loss: 1.5500\n",
            "Epoch: 50/50... Step: 5100... Loss: 1.6601... Val Loss: 1.5476\n",
            "Epoch: 50/50... Step: 5150... Loss: 1.6437... Val Loss: 1.5488\n",
            "Epoch: 50/50... Step: 5200... Loss: 1.6514... Val Loss: 1.5424\n"
          ],
          "name": "stdout"
        },
        {
          "output_type": "display_data",
          "data": {
            "image/png": "[encoded data removed]",
            "text/plain": [
              "<Figure size 432x288 with 1 Axes>"
            ]
          },
          "metadata": {
            "tags": []
          }
        },
        {
          "output_type": "display_data",
          "data": {
            "image/png": "[encoded data removed]",
            "text/plain": [
              "<Figure size 432x288 with 1 Axes>"
            ]
          },
          "metadata": {
            "tags": []
          }
        },
        {
          "output_type": "stream",
          "text": [
            "********** model_124_1_160_50 ************\n",
            "CharRNN(\n",
            "  (lstm): LSTM(41, 124, batch_first=True, dropout=0.5)\n",
            "  (dropout): Dropout(p=0.5)\n",
            "  (fc): Linear(in_features=124, out_features=41, bias=True)\n",
            ")\n",
            "Epoch: 1/50... Step: 50... Loss: 2.9242... Val Loss: 2.8880\n",
            "Epoch: 2/50... Step: 100... Loss: 2.8657... Val Loss: 2.8391\n",
            "Epoch: 3/50... Step: 150... Loss: 2.7284... Val Loss: 2.6905\n",
            "Epoch: 4/50... Step: 200... Loss: 2.5766... Val Loss: 2.5188\n",
            "Epoch: 5/50... Step: 250... Loss: 2.4538... Val Loss: 2.4041\n",
            "Epoch: 6/50... Step: 300... Loss: 2.3831... Val Loss: 2.3317\n",
            "Epoch: 7/50... Step: 350... Loss: 2.3601... Val Loss: 2.2813\n",
            "Epoch: 8/50... Step: 400... Loss: 2.2685... Val Loss: 2.2400\n",
            "Epoch: 9/50... Step: 450... Loss: 2.2551... Val Loss: 2.2066\n",
            "Epoch: 10/50... Step: 500... Loss: 2.2181... Val Loss: 2.1744\n",
            "Epoch: 11/50... Step: 550... Loss: 2.2129... Val Loss: 2.1516\n",
            "Epoch: 12/50... Step: 600... Loss: 2.2152... Val Loss: 2.1215\n",
            "Epoch: 13/50... Step: 650... Loss: 2.1519... Val Loss: 2.0993\n",
            "Epoch: 14/50... Step: 700... Loss: 2.1598... Val Loss: 2.0798\n",
            "Epoch: 15/50... Step: 750... Loss: 2.1523... Val Loss: 2.0618\n",
            "Epoch: 16/50... Step: 800... Loss: 2.1308... Val Loss: 2.0399\n",
            "Epoch: 17/50... Step: 850... Loss: 2.1190... Val Loss: 2.0211\n",
            "Epoch: 18/50... Step: 900... Loss: 2.0775... Val Loss: 2.0051\n",
            "Epoch: 19/50... Step: 950... Loss: 2.0683... Val Loss: 1.9871\n",
            "Epoch: 20/50... Step: 1000... Loss: 2.0758... Val Loss: 1.9731\n",
            "Epoch: 21/50... Step: 1050... Loss: 2.0335... Val Loss: 1.9573\n",
            "Epoch: 22/50... Step: 1100... Loss: 2.0388... Val Loss: 1.9446\n",
            "Epoch: 23/50... Step: 1150... Loss: 2.0257... Val Loss: 1.9317\n",
            "Epoch: 24/50... Step: 1200... Loss: 2.0155... Val Loss: 1.9163\n",
            "Epoch: 25/50... Step: 1250... Loss: 1.9911... Val Loss: 1.9035\n",
            "Epoch: 25/50... Step: 1300... Loss: 1.9661... Val Loss: 1.8916\n",
            "Epoch: 26/50... Step: 1350... Loss: 1.9782... Val Loss: 1.8793\n",
            "Epoch: 27/50... Step: 1400... Loss: 1.9465... Val Loss: 1.8698\n",
            "Epoch: 28/50... Step: 1450... Loss: 1.9656... Val Loss: 1.8568\n",
            "Epoch: 29/50... Step: 1500... Loss: 1.9524... Val Loss: 1.8470\n",
            "Epoch: 30/50... Step: 1550... Loss: 1.9324... Val Loss: 1.8359\n",
            "Epoch: 31/50... Step: 1600... Loss: 1.9407... Val Loss: 1.8259\n",
            "Epoch: 32/50... Step: 1650... Loss: 1.9429... Val Loss: 1.8168\n",
            "Epoch: 33/50... Step: 1700... Loss: 1.8808... Val Loss: 1.8068\n",
            "Epoch: 34/50... Step: 1750... Loss: 1.8708... Val Loss: 1.7968\n",
            "Epoch: 35/50... Step: 1800... Loss: 1.8794... Val Loss: 1.7884\n",
            "Epoch: 36/50... Step: 1850... Loss: 1.8739... Val Loss: 1.7804\n",
            "Epoch: 37/50... Step: 1900... Loss: 1.8791... Val Loss: 1.7710\n",
            "Epoch: 38/50... Step: 1950... Loss: 1.8581... Val Loss: 1.7623\n",
            "Epoch: 39/50... Step: 2000... Loss: 1.8637... Val Loss: 1.7556\n",
            "Epoch: 40/50... Step: 2050... Loss: 1.8779... Val Loss: 1.7470\n",
            "Epoch: 41/50... Step: 2100... Loss: 1.8483... Val Loss: 1.7408\n",
            "Epoch: 42/50... Step: 2150... Loss: 1.8524... Val Loss: 1.7327\n",
            "Epoch: 43/50... Step: 2200... Loss: 1.8244... Val Loss: 1.7263\n",
            "Epoch: 44/50... Step: 2250... Loss: 1.8091... Val Loss: 1.7212\n",
            "Epoch: 45/50... Step: 2300... Loss: 1.8333... Val Loss: 1.7131\n",
            "Epoch: 46/50... Step: 2350... Loss: 1.7992... Val Loss: 1.7088\n",
            "Epoch: 47/50... Step: 2400... Loss: 1.8031... Val Loss: 1.7010\n",
            "Epoch: 48/50... Step: 2450... Loss: 1.7855... Val Loss: 1.6961\n",
            "Epoch: 49/50... Step: 2500... Loss: 1.8022... Val Loss: 1.6905\n",
            "Epoch: 50/50... Step: 2550... Loss: 1.7801... Val Loss: 1.6844\n",
            "Epoch: 50/50... Step: 2600... Loss: 1.7689... Val Loss: 1.6790\n"
          ],
          "name": "stdout"
        },
        {
          "output_type": "display_data",
          "data": {
            "image/png": "[encoded data removed]",
            "text/plain": [
              "<Figure size 432x288 with 1 Axes>"
            ]
          },
          "metadata": {
            "tags": []
          }
        },
        {
          "output_type": "display_data",
          "data": {
            "image/png": "[encoded data removed]",
            "text/plain": [
              "<Figure size 432x288 with 1 Axes>"
            ]
          },
          "metadata": {
            "tags": []
          }
        },
        {
          "output_type": "stream",
          "text": [
            "********** model_124_4_80_50 ************\n",
            "CharRNN(\n",
            "  (lstm): LSTM(41, 124, num_layers=4, batch_first=True, dropout=0.5)\n",
            "  (dropout): Dropout(p=0.5)\n",
            "  (fc): Linear(in_features=124, out_features=41, bias=True)\n",
            ")\n",
            "Epoch: 1/50... Step: 50... Loss: 2.9314... Val Loss: 2.8977\n",
            "Epoch: 1/50... Step: 100... Loss: 2.9110... Val Loss: 2.8924\n",
            "Epoch: 2/50... Step: 150... Loss: 2.9138... Val Loss: 2.8919\n",
            "Epoch: 2/50... Step: 200... Loss: 2.9100... Val Loss: 2.8897\n",
            "Epoch: 3/50... Step: 250... Loss: 2.9079... Val Loss: 2.8901\n",
            "Epoch: 3/50... Step: 300... Loss: 2.9022... Val Loss: 2.8891\n",
            "Epoch: 4/50... Step: 350... Loss: 2.9092... Val Loss: 2.8892\n",
            "Epoch: 4/50... Step: 400... Loss: 2.9076... Val Loss: 2.8869\n",
            "Epoch: 5/50... Step: 450... Loss: 2.7828... Val Loss: 2.7138\n",
            "Epoch: 5/50... Step: 500... Loss: 2.6665... Val Loss: 2.6182\n",
            "Epoch: 6/50... Step: 550... Loss: 2.5797... Val Loss: 2.5190\n",
            "Epoch: 6/50... Step: 600... Loss: 2.4866... Val Loss: 2.4293\n",
            "Epoch: 7/50... Step: 650... Loss: 2.4286... Val Loss: 2.3738\n",
            "Epoch: 7/50... Step: 700... Loss: 2.4468... Val Loss: 2.3282\n",
            "Epoch: 8/50... Step: 750... Loss: 2.3940... Val Loss: 2.2899\n",
            "Epoch: 8/50... Step: 800... Loss: 2.3613... Val Loss: 2.2560\n",
            "Epoch: 9/50... Step: 850... Loss: 2.3231... Val Loss: 2.2348\n",
            "Epoch: 9/50... Step: 900... Loss: 2.2982... Val Loss: 2.2155\n",
            "Epoch: 10/50... Step: 950... Loss: 2.2899... Val Loss: 2.1982\n",
            "Epoch: 10/50... Step: 1000... Loss: 2.2792... Val Loss: 2.1816\n",
            "Epoch: 11/50... Step: 1050... Loss: 2.2336... Val Loss: 2.1614\n",
            "Epoch: 11/50... Step: 1100... Loss: 2.2484... Val Loss: 2.1467\n",
            "Epoch: 12/50... Step: 1150... Loss: 2.2223... Val Loss: 2.1308\n",
            "Epoch: 12/50... Step: 1200... Loss: 2.2545... Val Loss: 2.1168\n",
            "Epoch: 13/50... Step: 1250... Loss: 2.1562... Val Loss: 2.1018\n",
            "Epoch: 13/50... Step: 1300... Loss: 2.1860... Val Loss: 2.0855\n",
            "Epoch: 13/50... Step: 1350... Loss: 2.1539... Val Loss: 2.0712\n",
            "Epoch: 14/50... Step: 1400... Loss: 2.1872... Val Loss: 2.0590\n",
            "Epoch: 14/50... Step: 1450... Loss: 2.1435... Val Loss: 2.0450\n",
            "Epoch: 15/50... Step: 1500... Loss: 2.1608... Val Loss: 2.0308\n",
            "Epoch: 15/50... Step: 1550... Loss: 2.1684... Val Loss: 2.0153\n",
            "Epoch: 16/50... Step: 1600... Loss: 2.1404... Val Loss: 2.0059\n",
            "Epoch: 16/50... Step: 1650... Loss: 2.1253... Val Loss: 1.9922\n",
            "Epoch: 17/50... Step: 1700... Loss: 2.1296... Val Loss: 1.9814\n",
            "Epoch: 17/50... Step: 1750... Loss: 2.1004... Val Loss: 1.9706\n",
            "Epoch: 18/50... Step: 1800... Loss: 2.0706... Val Loss: 1.9603\n",
            "Epoch: 18/50... Step: 1850... Loss: 2.0653... Val Loss: 1.9510\n",
            "Epoch: 19/50... Step: 1900... Loss: 2.0691... Val Loss: 1.9409\n",
            "Epoch: 19/50... Step: 1950... Loss: 2.0749... Val Loss: 1.9280\n",
            "Epoch: 20/50... Step: 2000... Loss: 2.0502... Val Loss: 1.9195\n",
            "Epoch: 20/50... Step: 2050... Loss: 2.0253... Val Loss: 1.9122\n",
            "Epoch: 21/50... Step: 2100... Loss: 2.0001... Val Loss: 1.8996\n",
            "Epoch: 21/50... Step: 2150... Loss: 2.0489... Val Loss: 1.8895\n",
            "Epoch: 22/50... Step: 2200... Loss: 2.0462... Val Loss: 1.8806\n",
            "Epoch: 22/50... Step: 2250... Loss: 2.0352... Val Loss: 1.8750\n",
            "Epoch: 23/50... Step: 2300... Loss: 1.9549... Val Loss: 1.8645\n",
            "Epoch: 23/50... Step: 2350... Loss: 1.9573... Val Loss: 1.8532\n",
            "Epoch: 24/50... Step: 2400... Loss: 1.9862... Val Loss: 1.8443\n",
            "Epoch: 24/50... Step: 2450... Loss: 1.9808... Val Loss: 1.8355\n",
            "Epoch: 25/50... Step: 2500... Loss: 1.9601... Val Loss: 1.8279\n",
            "Epoch: 25/50... Step: 2550... Loss: 1.9529... Val Loss: 1.8193\n",
            "Epoch: 25/50... Step: 2600... Loss: 1.9485... Val Loss: 1.8107\n",
            "Epoch: 26/50... Step: 2650... Loss: 1.9204... Val Loss: 1.8009\n",
            "Epoch: 26/50... Step: 2700... Loss: 1.9355... Val Loss: 1.7918\n",
            "Epoch: 27/50... Step: 2750... Loss: 1.9248... Val Loss: 1.7864\n",
            "Epoch: 27/50... Step: 2800... Loss: 1.9185... Val Loss: 1.7770\n",
            "Epoch: 28/50... Step: 2850... Loss: 1.9412... Val Loss: 1.7728\n",
            "Epoch: 28/50... Step: 2900... Loss: 1.8932... Val Loss: 1.7624\n",
            "Epoch: 29/50... Step: 2950... Loss: 1.9204... Val Loss: 1.7583\n",
            "Epoch: 29/50... Step: 3000... Loss: 1.9015... Val Loss: 1.7520\n",
            "Epoch: 30/50... Step: 3050... Loss: 1.9274... Val Loss: 1.7411\n",
            "Epoch: 30/50... Step: 3100... Loss: 1.8617... Val Loss: 1.7374\n",
            "Epoch: 31/50... Step: 3150... Loss: 1.8686... Val Loss: 1.7292\n",
            "Epoch: 31/50... Step: 3200... Loss: 1.8988... Val Loss: 1.7232\n",
            "Epoch: 32/50... Step: 3250... Loss: 1.8588... Val Loss: 1.7181\n",
            "Epoch: 32/50... Step: 3300... Loss: 1.9000... Val Loss: 1.7134\n",
            "Epoch: 33/50... Step: 3350... Loss: 1.8766... Val Loss: 1.7070\n",
            "Epoch: 33/50... Step: 3400... Loss: 1.8700... Val Loss: 1.7018\n",
            "Epoch: 34/50... Step: 3450... Loss: 1.8329... Val Loss: 1.6978\n",
            "Epoch: 34/50... Step: 3500... Loss: 1.8357... Val Loss: 1.6905\n",
            "Epoch: 35/50... Step: 3550... Loss: 1.8191... Val Loss: 1.6886\n",
            "Epoch: 35/50... Step: 3600... Loss: 1.8015... Val Loss: 1.6807\n",
            "Epoch: 36/50... Step: 3650... Loss: 1.8216... Val Loss: 1.6790\n",
            "Epoch: 36/50... Step: 3700... Loss: 1.8425... Val Loss: 1.6734\n",
            "Epoch: 37/50... Step: 3750... Loss: 1.8075... Val Loss: 1.6670\n",
            "Epoch: 37/50... Step: 3800... Loss: 1.8477... Val Loss: 1.6636\n",
            "Epoch: 38/50... Step: 3850... Loss: 1.7521... Val Loss: 1.6601\n",
            "Epoch: 38/50... Step: 3900... Loss: 1.8365... Val Loss: 1.6546\n",
            "Epoch: 38/50... Step: 3950... Loss: 1.7899... Val Loss: 1.6495\n",
            "Epoch: 39/50... Step: 4000... Loss: 1.8238... Val Loss: 1.6470\n",
            "Epoch: 39/50... Step: 4050... Loss: 1.7922... Val Loss: 1.6426\n",
            "Epoch: 40/50... Step: 4100... Loss: 1.8353... Val Loss: 1.6393\n",
            "Epoch: 40/50... Step: 4150... Loss: 1.8337... Val Loss: 1.6350\n",
            "Epoch: 41/50... Step: 4200... Loss: 1.8031... Val Loss: 1.6318\n",
            "Epoch: 41/50... Step: 4250... Loss: 1.7907... Val Loss: 1.6308\n",
            "Epoch: 42/50... Step: 4300... Loss: 1.7823... Val Loss: 1.6237\n",
            "Epoch: 42/50... Step: 4350... Loss: 1.7836... Val Loss: 1.6203\n",
            "Epoch: 43/50... Step: 4400... Loss: 1.7659... Val Loss: 1.6180\n",
            "Epoch: 43/50... Step: 4450... Loss: 1.7654... Val Loss: 1.6152\n",
            "Epoch: 44/50... Step: 4500... Loss: 1.8040... Val Loss: 1.6116\n",
            "Epoch: 44/50... Step: 4550... Loss: 1.8169... Val Loss: 1.6097\n",
            "Epoch: 45/50... Step: 4600... Loss: 1.7666... Val Loss: 1.6069\n",
            "Epoch: 45/50... Step: 4650... Loss: 1.7358... Val Loss: 1.6032\n",
            "Epoch: 46/50... Step: 4700... Loss: 1.7421... Val Loss: 1.6006\n",
            "Epoch: 46/50... Step: 4750... Loss: 1.8005... Val Loss: 1.5961\n",
            "Epoch: 47/50... Step: 4800... Loss: 1.7876... Val Loss: 1.5949\n",
            "Epoch: 47/50... Step: 4850... Loss: 1.7697... Val Loss: 1.5899\n",
            "Epoch: 48/50... Step: 4900... Loss: 1.7185... Val Loss: 1.5900\n",
            "Epoch: 48/50... Step: 4950... Loss: 1.7377... Val Loss: 1.5866\n",
            "Epoch: 49/50... Step: 5000... Loss: 1.7490... Val Loss: 1.5834\n",
            "Epoch: 49/50... Step: 5050... Loss: 1.7293... Val Loss: 1.5814\n",
            "Epoch: 50/50... Step: 5100... Loss: 1.7396... Val Loss: 1.5782\n",
            "Epoch: 50/50... Step: 5150... Loss: 1.7416... Val Loss: 1.5776\n",
            "Epoch: 50/50... Step: 5200... Loss: 1.7474... Val Loss: 1.5747\n"
          ],
          "name": "stdout"
        },
        {
          "output_type": "display_data",
          "data": {
            "image/png": "[encoded data removed]",
            "text/plain": [
              "<Figure size 432x288 with 1 Axes>"
            ]
          },
          "metadata": {
            "tags": []
          }
        },
        {
          "output_type": "display_data",
          "data": {
            "image/png": "[encoded data removed]",
            "text/plain": [
              "<Figure size 432x288 with 1 Axes>"
            ]
          },
          "metadata": {
            "tags": []
          }
        },
        {
          "output_type": "stream",
          "text": [
            "********** model_124_4_160_50 ************\n",
            "CharRNN(\n",
            "  (lstm): LSTM(41, 124, num_layers=4, batch_first=True, dropout=0.5)\n",
            "  (dropout): Dropout(p=0.5)\n",
            "  (fc): Linear(in_features=124, out_features=41, bias=True)\n",
            ")\n",
            "Epoch: 1/50... Step: 50... Loss: 2.9380... Val Loss: 2.8976\n",
            "Epoch: 2/50... Step: 100... Loss: 2.9168... Val Loss: 2.8929\n",
            "Epoch: 3/50... Step: 150... Loss: 2.9156... Val Loss: 2.8910\n",
            "Epoch: 4/50... Step: 200... Loss: 2.9124... Val Loss: 2.8902\n",
            "Epoch: 5/50... Step: 250... Loss: 2.8999... Val Loss: 2.8899\n",
            "Epoch: 6/50... Step: 300... Loss: 2.9031... Val Loss: 2.8898\n",
            "Epoch: 7/50... Step: 350... Loss: 2.9132... Val Loss: 2.8900\n",
            "Epoch: 8/50... Step: 400... Loss: 2.9103... Val Loss: 2.8900\n"
          ],
          "name": "stdout"
        }
      ]
    },
    {
      "cell_type": "code",
      "metadata": {
        "id": "HIcxW0_ngYJM",
        "colab_type": "code",
        "colab": {}
      },
      "source": [
        ""
      ],
      "execution_count": 0,
      "outputs": []
    },
    {
      "cell_type": "code",
      "metadata": {
        "id": "BeDuez0rLkc-",
        "colab_type": "code",
        "colab": {}
      },
      "source": [
        ""
      ],
      "execution_count": 0,
      "outputs": []
    },
    {
      "cell_type": "markdown",
      "metadata": {
        "id": "od4Qn6sJLlEt",
        "colab_type": "text"
      },
      "source": [
        "# Appendix"
      ]
    },
    {
      "cell_type": "code",
      "metadata": {
        "id": "8bhdMUkacvH9",
        "colab_type": "code",
        "colab": {}
      },
      "source": [
        "def predict(net, char, h=None, top_k=None):\n",
        "        ''' Given a character, predict the next character.\n",
        "            Returns the predicted character and the hidden state.\n",
        "        '''\n",
        "        \n",
        "        # tensor inputs\n",
        "        x = np.array([[net.char2int[char]]])\n",
        "        x = one_hot_encode(x, len(net.chars))\n",
        "        inputs = torch.from_numpy(x)\n",
        "        \n",
        "        if(train_on_gpu):\n",
        "            inputs = inputs.cuda()\n",
        "        \n",
        "        # detach hidden state from history\n",
        "        h = tuple([each.data for each in h])\n",
        "        # get the output of the model\n",
        "        out, h = net(inputs, h)\n",
        "\n",
        "        # get the character probabilities\n",
        "        # apply softmax to get p probabilities for the likely next character giving x\n",
        "        p = F.softmax(out, dim=1).data\n",
        "        if(train_on_gpu):\n",
        "            p = p.cpu() # move to cpu\n",
        "        \n",
        "        \n",
        "        # keep probability to use later\n",
        "        prob = p.numpy().squeeze()\n",
        "        char_index = np.argmax(prob)\n",
        "        char_pred = net.int2char[char_index]\n",
        "        prob_pred = prob[char_index]\n",
        "        \n",
        "#         # get top characters\n",
        "#         # considering the k most probable characters with topk method\n",
        "#         if top_k is None:\n",
        "#             top_ch = np.arange(len(net.chars))\n",
        "#         else:\n",
        "#             p, top_ch = p.topk(top_k)\n",
        "#             top_ch = top_ch.numpy().squeeze()\n",
        "        \n",
        "        \n",
        "#         # select the likely next character with some element of randomness\n",
        "#         p = p.numpy().squeeze()\n",
        "#         char = np.random.choice(top_ch, p=p/p.sum())\n",
        "        \n",
        "#         # return the encoded value of the predicted char and the hidden state\n",
        "#        return net.int2char[char], h, prob\n",
        "        return char_pred, h, prob_pred"
      ],
      "execution_count": 0,
      "outputs": []
    },
    {
      "cell_type": "code",
      "metadata": {
        "id": "yNddg0HksEGy",
        "colab_type": "code",
        "colab": {}
      },
      "source": [
        ""
      ],
      "execution_count": 0,
      "outputs": []
    },
    {
      "cell_type": "code",
      "metadata": {
        "id": "i-98qMhKsEXu",
        "colab_type": "code",
        "outputId": "ff923b23-1e84-4857-92c7-7effd52ffbe3",
        "colab": {
          "base_uri": "https://localhost:8080/",
          "height": 364
        }
      },
      "source": [
        "t1 = time.time()\n",
        "prime = 'but to speak seriou' # But to speak seriously\n",
        "# print('length of prime = {}'.format(len(prime)))\n",
        "\n",
        "chars = [ch for ch in prime]\n",
        "h = net.init_hidden(1)\n",
        "for ch in prime:\n",
        "  char, h, prob = predict(net, ch, h)\n",
        "  print(\"ch = {}, char = {}, prob = {}\".format(ch, char, prob))\n",
        "\n",
        "print(\"time taken to predict: {}\".format(time.time()-t1))\n",
        "  \n",
        "  "
      ],
      "execution_count": 0,
      "outputs": [
        {
          "output_type": "stream",
          "text": [
            "ch = b, char = e, prob = 0.30611371994018555\n",
            "ch = u, char = l, prob = 0.5654222965240479\n",
            "ch = t, char =  , prob = 0.5635764002799988\n",
            "ch =  , char = a, prob = 0.1304537057876587\n",
            "ch = t, char = h, prob = 0.6685751080513\n",
            "ch = o, char =  , prob = 0.925091028213501\n",
            "ch =  , char = t, prob = 0.14843431115150452\n",
            "ch = s, char = a, prob = 0.27939751744270325\n",
            "ch = p, char = e, prob = 0.5872915387153625\n",
            "ch = e, char = a, prob = 0.9448623657226562\n",
            "ch = a, char = k, prob = 0.9943780303001404\n",
            "ch = k, char =  , prob = 0.919374942779541\n",
            "ch =  , char = o, prob = 0.5279476046562195\n",
            "ch = s, char = o, prob = 0.3095758259296417\n",
            "ch = e, char = e, prob = 0.3643374443054199\n",
            "ch = r, char = v, prob = 0.669789731502533\n",
            "ch = i, char = o, prob = 0.886081337928772\n",
            "ch = o, char = u, prob = 0.9984220266342163\n",
            "ch = u, char = s, prob = 0.9993937015533447\n",
            "time taken to predict: 0.02683401107788086\n"
          ],
          "name": "stdout"
        }
      ]
    },
    {
      "cell_type": "code",
      "metadata": {
        "id": "1BFa_SPpsElz",
        "colab_type": "code",
        "outputId": "a2d5fda6-53de-4a0c-b99b-ce964292baf7",
        "colab": {
          "base_uri": "https://localhost:8080/",
          "height": 35
        }
      },
      "source": [
        "0.015*1.4*1000000/60/60"
      ],
      "execution_count": 0,
      "outputs": [
        {
          "output_type": "execute_result",
          "data": {
            "text/plain": [
              "5.833333333333332"
            ]
          },
          "metadata": {
            "tags": []
          },
          "execution_count": 134
        }
      ]
    },
    {
      "cell_type": "code",
      "metadata": {
        "id": "oCn8Tqnrtauy",
        "colab_type": "code",
        "colab": {}
      },
      "source": [
        ""
      ],
      "execution_count": 0,
      "outputs": []
    },
    {
      "cell_type": "code",
      "metadata": {
        "id": "HTMcPyj-tarT",
        "colab_type": "code",
        "colab": {}
      },
      "source": [
        ""
      ],
      "execution_count": 0,
      "outputs": []
    },
    {
      "cell_type": "code",
      "metadata": {
        "id": "sYBBv3E3iUnH",
        "colab_type": "code",
        "colab": {}
      },
      "source": [
        "# def sample(net, size, prime='ba', top_k=None):\n",
        "        \n",
        "#     if(train_on_gpu):\n",
        "#         net.cuda()\n",
        "#     else:\n",
        "#         net.cpu()\n",
        "    \n",
        "#     net.eval() # eval mode\n",
        "    \n",
        "#     # First off, run through the prime characters\n",
        "#     chars = [ch for ch in prime]\n",
        "#     h = net.init_hidden(1)\n",
        "#     for ch in prime:\n",
        "#         char, h = predict(net, ch, h, top_k=top_k)\n",
        "#         print(\"ch = {}, char = {}\".format(ch, char))\n",
        "\n",
        "#     chars.append(char)\n",
        "    \n",
        "#     # Now pass in the previous character and get a new one\n",
        "#     for ii in range(size):\n",
        "#         char, h = predict(net, chars[-1], h, top_k=top_k)\n",
        "#         chars.append(char)\n",
        "#         print(\"chars[-1] = {}, char = {}\".format(chars[-1], char))\n",
        "\n",
        "#     return ''.join(chars)"
      ],
      "execution_count": 0,
      "outputs": []
    },
    {
      "cell_type": "code",
      "metadata": {
        "id": "LPCBdkw17ODd",
        "colab_type": "code",
        "colab": {}
      },
      "source": [
        ""
      ],
      "execution_count": 0,
      "outputs": []
    },
    {
      "cell_type": "code",
      "metadata": {
        "id": "QZy4aMpF7ObK",
        "colab_type": "code",
        "colab": {}
      },
      "source": [
        ""
      ],
      "execution_count": 0,
      "outputs": []
    },
    {
      "cell_type": "code",
      "metadata": {
        "id": "D6DDA0WQ7OW9",
        "colab_type": "code",
        "colab": {}
      },
      "source": [
        "# LOADING \n",
        "# Here we have loaded in a model that trained over 20 epochs `rnn_20_epoch.net`\n",
        "with open('rnn_20_epoch.net', 'rb') as f:\n",
        "    checkpoint = torch.load(f)\n",
        "    \n",
        "loaded = CharRNN(checkpoint['tokens'], n_hidden=checkpoint['n_hidden'], n_layers=checkpoint['n_layers'])\n",
        "loaded.load_state_dict(checkpoint['state_dict'])"
      ],
      "execution_count": 0,
      "outputs": []
    },
    {
      "cell_type": "code",
      "metadata": {
        "id": "Sc3PxQki7OTm",
        "colab_type": "code",
        "colab": {}
      },
      "source": [
        ""
      ],
      "execution_count": 0,
      "outputs": []
    },
    {
      "cell_type": "code",
      "metadata": {
        "id": "qX2p1tOmSda-",
        "colab_type": "code",
        "colab": {}
      },
      "source": [
        ""
      ],
      "execution_count": 0,
      "outputs": []
    }
  ]
}