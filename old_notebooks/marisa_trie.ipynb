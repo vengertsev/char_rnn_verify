{
  "nbformat": 4,
  "nbformat_minor": 0,
  "metadata": {
    "colab": {
      "name": "marisa_trie.ipynb",
      "version": "0.3.2",
      "provenance": []
    },
    "kernelspec": {
      "name": "python3",
      "display_name": "Python 3"
    }
  },
  "cells": [
    {
      "cell_type": "markdown",
      "metadata": {
        "id": "qOociaD1gKeM",
        "colab_type": "text"
      },
      "source": [
        "Code to use marisa-trie to encode nietzsche.txt"
      ]
    },
    {
      "cell_type": "code",
      "metadata": {
        "id": "vMUw0PAM5D-b",
        "colab_type": "code",
        "colab": {}
      },
      "source": [
        "char_seq_len=10\n",
        "delta_step=1"
      ],
      "execution_count": 0,
      "outputs": []
    },
    {
      "cell_type": "code",
      "metadata": {
        "colab_type": "code",
        "id": "QbDT7nln4_BI",
        "colab": {}
      },
      "source": [
        "# Read file to get all the words.\n",
        "f = open('nietzsche.txt', 'r')\n",
        "content = f.read()\n",
        "import re\n",
        "s = \"string. With. Punctuation?\"\n",
        "s = re.sub(r'[^\\w\\s]','',content)\n",
        "s = re.sub('\\n', ' ', s)\n",
        "s = str.lower(s)\n",
        "content = s"
      ],
      "execution_count": 0,
      "outputs": []
    },
    {
      "cell_type": "code",
      "metadata": {
        "id": "miXLDL_e5rtG",
        "colab_type": "code",
        "outputId": "46727c32-0b80-41bc-bfe6-ed80c3209cce",
        "colab": {
          "base_uri": "https://localhost:8080/",
          "height": 35
        }
      },
      "source": [
        "content_size = len(content)\n",
        "tokens_max_cnt = int(content_size/delta_step)\n",
        "print('content_size = {} tokens_max_cnt = {}'.format(content_size, tokens_max_cnt))"
      ],
      "execution_count": 0,
      "outputs": [
        {
          "output_type": "stream",
          "text": [
            "content_size = 580724 tokens_max_cnt = 580724\n"
          ],
          "name": "stdout"
        }
      ]
    },
    {
      "cell_type": "code",
      "metadata": {
        "colab_type": "code",
        "id": "1lHQ6Yhp4_Bp",
        "colab": {}
      },
      "source": [
        "tokens_all = set()\n",
        "for i in range(0, tokens_max_cnt):  \n",
        "  start = int(i*delta_step)\n",
        "  end = int(i*delta_step + char_seq_len)\n",
        "  # print('start = {}, end = {}'.format(start, end))  \n",
        "  seq = content[start:end]\n",
        "  # print('seq = {}'.format(seq))\n",
        "  tokens_all.add(seq)\n",
        "  \n",
        "tokens = list(tokens_all)"
      ],
      "execution_count": 0,
      "outputs": []
    },
    {
      "cell_type": "code",
      "metadata": {
        "id": "DHZBzxo73l8u",
        "colab_type": "code",
        "outputId": "bccdb88f-1f8f-4a3d-8a27-4ac1d48ef450",
        "colab": {
          "base_uri": "https://localhost:8080/",
          "height": 35
        }
      },
      "source": [
        "tokens[0:3]"
      ],
      "execution_count": 0,
      "outputs": [
        {
          "output_type": "execute_result",
          "data": {
            "text/plain": [
              "[' same as l', 'the diffic', 'ollowing o']"
            ]
          },
          "metadata": {
            "tags": []
          },
          "execution_count": 152
        }
      ]
    },
    {
      "cell_type": "code",
      "metadata": {
        "id": "0vhlLTfC_Jt2",
        "colab_type": "code",
        "colab": {}
      },
      "source": [
        "tokens_incr = set() # incremental tokens\n",
        "\n",
        "for token in tokens:\n",
        "  for i in range(0, len(token)+1):\n",
        "    token_i = token[0: i]\n",
        "    tokens_incr.add(token_i)\n",
        "tokens_incr = list(tokens_incr)\n",
        "len(tokens_incr)"
      ],
      "execution_count": 0,
      "outputs": []
    },
    {
      "cell_type": "markdown",
      "metadata": {
        "id": "nvXnkgewfdUP",
        "colab_type": "text"
      },
      "source": [
        "Creating Ground Truth Data Structure"
      ]
    },
    {
      "cell_type": "code",
      "metadata": {
        "id": "qvqaZhqwGTqp",
        "colab_type": "code",
        "outputId": "85330dda-45f2-4b16-882d-7a6e310222b4",
        "colab": {
          "base_uri": "https://localhost:8080/",
          "height": 211
        }
      },
      "source": [
        "!pip install marisa-trie\n"
      ],
      "execution_count": 0,
      "outputs": [
        {
          "output_type": "stream",
          "text": [
            "Collecting marisa-trie\n",
            "\u001b[?25l  Downloading https://files.pythonhosted.org/packages/20/95/d23071d0992dabcb61c948fb118a90683193befc88c23e745b050a29e7db/marisa-trie-0.7.5.tar.gz (270kB)\n",
            "\r\u001b[K     |█▏                              | 10kB 13.3MB/s eta 0:00:01\r\u001b[K     |██▍                             | 20kB 3.2MB/s eta 0:00:01\r\u001b[K     |███▋                            | 30kB 4.6MB/s eta 0:00:01\r\u001b[K     |████▉                           | 40kB 3.0MB/s eta 0:00:01\r\u001b[K     |██████                          | 51kB 3.7MB/s eta 0:00:01\r\u001b[K     |███████▎                        | 61kB 4.3MB/s eta 0:00:01\r\u001b[K     |████████▌                       | 71kB 5.0MB/s eta 0:00:01\r\u001b[K     |█████████▊                      | 81kB 5.6MB/s eta 0:00:01\r\u001b[K     |███████████                     | 92kB 6.2MB/s eta 0:00:01\r\u001b[K     |████████████                    | 102kB 4.9MB/s eta 0:00:01\r\u001b[K     |█████████████▎                  | 112kB 4.9MB/s eta 0:00:01\r\u001b[K     |██████████████▌                 | 122kB 4.9MB/s eta 0:00:01\r\u001b[K     |███████████████▊                | 133kB 4.9MB/s eta 0:00:01\r\u001b[K     |█████████████████               | 143kB 4.9MB/s eta 0:00:01\r\u001b[K     |██████████████████▏             | 153kB 4.9MB/s eta 0:00:01\r\u001b[K     |███████████████████▍            | 163kB 4.9MB/s eta 0:00:01\r\u001b[K     |████████████████████▋           | 174kB 4.9MB/s eta 0:00:01\r\u001b[K     |█████████████████████▉          | 184kB 4.9MB/s eta 0:00:01\r\u001b[K     |███████████████████████         | 194kB 4.9MB/s eta 0:00:01\r\u001b[K     |████████████████████████▏       | 204kB 4.9MB/s eta 0:00:01\r\u001b[K     |█████████████████████████▍      | 215kB 4.9MB/s eta 0:00:01\r\u001b[K     |██████████████████████████▋     | 225kB 4.9MB/s eta 0:00:01\r\u001b[K     |███████████████████████████▉    | 235kB 4.9MB/s eta 0:00:01\r\u001b[K     |█████████████████████████████   | 245kB 4.9MB/s eta 0:00:01\r\u001b[K     |██████████████████████████████▎ | 256kB 4.9MB/s eta 0:00:01\r\u001b[K     |███████████████████████████████▌| 266kB 4.9MB/s eta 0:00:01\r\u001b[K     |████████████████████████████████| 276kB 4.9MB/s \n",
            "\u001b[?25hBuilding wheels for collected packages: marisa-trie\n",
            "  Building wheel for marisa-trie (setup.py) ... \u001b[?25l\u001b[?25hdone\n",
            "  Created wheel for marisa-trie: filename=marisa_trie-0.7.5-cp36-cp36m-linux_x86_64.whl size=862234 sha256=5d4abc68269d29d15b0e75874516bdb64a328deb55882a48e64c88bcdab50902\n",
            "  Stored in directory: /root/.cache/pip/wheels/45/24/79/022624fc914f0e559fe8a1141aaff1f9df810905a13fc75d57\n",
            "Successfully built marisa-trie\n",
            "Installing collected packages: marisa-trie\n",
            "Successfully installed marisa-trie-0.7.5\n"
          ],
          "name": "stdout"
        }
      ]
    },
    {
      "cell_type": "code",
      "metadata": {
        "id": "U1Hef_6hGTov",
        "colab_type": "code",
        "colab": {}
      },
      "source": [
        "import marisa_trie\n",
        "# https://stackoverflow.com/questions/11015320/how-to-create-a-trie-in-python"
      ],
      "execution_count": 0,
      "outputs": []
    },
    {
      "cell_type": "code",
      "metadata": {
        "id": "yTy-SMZQUOyy",
        "colab_type": "code",
        "colab": {}
      },
      "source": [
        "trie = marisa_trie.Trie(tokens_incr)"
      ],
      "execution_count": 0,
      "outputs": []
    },
    {
      "cell_type": "code",
      "metadata": {
        "id": "jFR4Cm1cZSH_",
        "colab_type": "code",
        "outputId": "bc33ad94-ebbc-43c6-b1c4-014906b7a371",
        "colab": {
          "base_uri": "https://localhost:8080/",
          "height": 35
        }
      },
      "source": [
        "trie.prefixes('see mo')"
      ],
      "execution_count": 0,
      "outputs": [
        {
          "output_type": "execute_result",
          "data": {
            "text/plain": [
              "['', 's', 'se', 'see', 'see ', 'see m', 'see mo']"
            ]
          },
          "metadata": {
            "tags": []
          },
          "execution_count": 148
        }
      ]
    },
    {
      "cell_type": "code",
      "metadata": {
        "id": "i__RSHSyZSDY",
        "colab_type": "code",
        "outputId": "29df91f1-9dad-4dcd-9160-eb5f6716d6fc",
        "colab": {
          "base_uri": "https://localhost:8080/",
          "height": 797
        }
      },
      "source": [
        "object_methods = [method_name for method_name in dir(trie)\n",
        "                  if callable(getattr(trie, method_name))]\n",
        "object_methods"
      ],
      "execution_count": 0,
      "outputs": [
        {
          "output_type": "execute_result",
          "data": {
            "text/plain": [
              "['__class__',\n",
              " '__contains__',\n",
              " '__delattr__',\n",
              " '__dir__',\n",
              " '__eq__',\n",
              " '__format__',\n",
              " '__ge__',\n",
              " '__getattribute__',\n",
              " '__getitem__',\n",
              " '__gt__',\n",
              " '__init__',\n",
              " '__init_subclass__',\n",
              " '__iter__',\n",
              " '__le__',\n",
              " '__len__',\n",
              " '__lt__',\n",
              " '__ne__',\n",
              " '__new__',\n",
              " '__reduce__',\n",
              " '__reduce_ex__',\n",
              " '__repr__',\n",
              " '__setattr__',\n",
              " '__setstate__',\n",
              " '__sizeof__',\n",
              " '__str__',\n",
              " '__subclasshook__',\n",
              " '_build',\n",
              " '_config_flags',\n",
              " 'frombytes',\n",
              " 'get',\n",
              " 'has_keys_with_prefix',\n",
              " 'items',\n",
              " 'iter_prefixes',\n",
              " 'iteritems',\n",
              " 'iterkeys',\n",
              " 'key_id',\n",
              " 'keys',\n",
              " 'load',\n",
              " 'mmap',\n",
              " 'prefixes',\n",
              " 'read',\n",
              " 'restore_key',\n",
              " 'save',\n",
              " 'tobytes',\n",
              " 'write']"
            ]
          },
          "metadata": {
            "tags": []
          },
          "execution_count": 150
        }
      ]
    },
    {
      "cell_type": "code",
      "metadata": {
        "id": "2YD2MRRvf14P",
        "colab_type": "code",
        "colab": {}
      },
      "source": [
        ""
      ],
      "execution_count": 0,
      "outputs": []
    }
  ]
}