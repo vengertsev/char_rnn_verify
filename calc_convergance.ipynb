{
 "cells": [
  {
   "cell_type": "code",
   "execution_count": 1,
   "metadata": {},
   "outputs": [],
   "source": [
    "import pandas as pd\n",
    "import numpy as np\n",
    "from matplotlib import pyplot as plt"
   ]
  },
  {
   "cell_type": "code",
   "execution_count": 2,
   "metadata": {},
   "outputs": [],
   "source": [
    "folder = 'E://Dima//PhD//Papers//archive//data//verify_results/'"
   ]
  },
  {
   "cell_type": "code",
   "execution_count": 3,
   "metadata": {},
   "outputs": [],
   "source": [
    "def get_conv_rate (fname, p_column, stop_index, delta=100, normalized=False, is_plot=False):\n",
    "    df_p = pd.read_csv(fname)\n",
    "    rho = df_p[p_column]\n",
    "    rho = rho[:stop_index]\n",
    "    rho_delta = rho.diff()\n",
    "    rho_delta = rho_delta[-delta:]\n",
    "    max_rho = max(rho[-delta:])\n",
    "        \n",
    "    if normalized:\n",
    "        return sum(abs(rho_delta))/100/max_rho \n",
    "    else:            \n",
    "        return sum(abs(rho_delta))/100  "
   ]
  },
  {
   "cell_type": "markdown",
   "metadata": {},
   "source": [
    "## M1"
   ]
  },
  {
   "cell_type": "code",
   "execution_count": 93,
   "metadata": {},
   "outputs": [
    {
     "data": {
      "text/plain": [
       "8.225153352698134e-05"
      ]
     },
     "execution_count": 93,
     "metadata": {},
     "output_type": "execute_result"
    }
   ],
   "source": [
    "get_conv_rate(folder + 'model_80_1_80_500_p1_p2_smc.csv', 'rho_p1', 5371)"
   ]
  },
  {
   "cell_type": "code",
   "execution_count": 94,
   "metadata": {},
   "outputs": [
    {
     "data": {
      "text/plain": [
       "5.8324755006309296e-05"
      ]
     },
     "execution_count": 94,
     "metadata": {},
     "output_type": "execute_result"
    }
   ],
   "source": [
    "get_conv_rate(folder + 'model_80_1_80_500_p1_p2_smc.csv', 'rho_p2', 5343)"
   ]
  },
  {
   "cell_type": "code",
   "execution_count": 95,
   "metadata": {},
   "outputs": [
    {
     "data": {
      "text/plain": [
       "0.00020694902953240723"
      ]
     },
     "execution_count": 95,
     "metadata": {},
     "output_type": "execute_result"
    }
   ],
   "source": [
    "get_conv_rate(folder + 'model_80_1_80_500_p3_smc.csv', 'rho_p3', 2409)"
   ]
  },
  {
   "cell_type": "code",
   "execution_count": 96,
   "metadata": {},
   "outputs": [
    {
     "data": {
      "text/plain": [
       "0.00010089013788437184"
      ]
     },
     "execution_count": 96,
     "metadata": {},
     "output_type": "execute_result"
    }
   ],
   "source": [
    "get_conv_rate(folder + 'model_80_1_80_500_p4_smc.csv', 'rho_p4', 1530)"
   ]
  },
  {
   "cell_type": "code",
   "execution_count": 97,
   "metadata": {},
   "outputs": [
    {
     "data": {
      "text/plain": [
       "2.515887081708662e-05"
      ]
     },
     "execution_count": 97,
     "metadata": {},
     "output_type": "execute_result"
    }
   ],
   "source": [
    "get_conv_rate(folder + 'model_80_1_80_500_p5_smc.csv', 'rho_p5', 5459)"
   ]
  },
  {
   "cell_type": "code",
   "execution_count": 100,
   "metadata": {},
   "outputs": [
    {
     "data": {
      "text/plain": [
       "1.8260484658222386e-07"
      ]
     },
     "execution_count": 100,
     "metadata": {},
     "output_type": "execute_result"
    }
   ],
   "source": [
    "get_conv_rate(folder + 'model_80_1_80_500_p6_smc.csv', 'rho_p6', 104467)"
   ]
  },
  {
   "cell_type": "markdown",
   "metadata": {},
   "source": [
    "## M2"
   ]
  },
  {
   "cell_type": "code",
   "execution_count": 89,
   "metadata": {},
   "outputs": [
    {
     "data": {
      "text/plain": [
       "0.00011376181351889641"
      ]
     },
     "execution_count": 89,
     "metadata": {},
     "output_type": "execute_result"
    }
   ],
   "source": [
    "get_conv_rate(folder + 'model_60_4_80_500_p1_p2_smc.csv', 'rho_p1', 3055)"
   ]
  },
  {
   "cell_type": "code",
   "execution_count": 90,
   "metadata": {},
   "outputs": [
    {
     "data": {
      "text/plain": [
       "0.00010609198721139968"
      ]
     },
     "execution_count": 90,
     "metadata": {},
     "output_type": "execute_result"
    }
   ],
   "source": [
    "get_conv_rate(folder + 'model_60_4_80_500_p1_p2_smc.csv', 'rho_p2', 3833)"
   ]
  },
  {
   "cell_type": "code",
   "execution_count": 91,
   "metadata": {},
   "outputs": [
    {
     "data": {
      "text/plain": [
       "0.00010022849953964464"
      ]
     },
     "execution_count": 91,
     "metadata": {},
     "output_type": "execute_result"
    }
   ],
   "source": [
    "get_conv_rate(folder + 'model_60_4_80_500_p3_smc.csv', 'rho_p3', 4655)"
   ]
  },
  {
   "cell_type": "code",
   "execution_count": 92,
   "metadata": {},
   "outputs": [
    {
     "data": {
      "text/plain": [
       "5.109734761130969e-05"
      ]
     },
     "execution_count": 92,
     "metadata": {},
     "output_type": "execute_result"
    }
   ],
   "source": [
    "get_conv_rate(folder + 'model_60_4_80_500_p4_smc.csv', 'rho_p4', 1564)"
   ]
  },
  {
   "cell_type": "code",
   "execution_count": 88,
   "metadata": {},
   "outputs": [
    {
     "data": {
      "text/plain": [
       "1.9080275623444e-06"
      ]
     },
     "execution_count": 88,
     "metadata": {},
     "output_type": "execute_result"
    }
   ],
   "source": [
    "get_conv_rate(folder + 'model_60_4_80_500_p5_smc.csv', 'rho_p5', 45487)"
   ]
  },
  {
   "cell_type": "code",
   "execution_count": 87,
   "metadata": {},
   "outputs": [
    {
     "data": {
      "text/plain": [
       "4.2616756267938126e-07"
      ]
     },
     "execution_count": 87,
     "metadata": {},
     "output_type": "execute_result"
    }
   ],
   "source": [
    "get_conv_rate(folder + 'model_60_4_80_500_p6_smc.csv', 'rho_p6', 8577)"
   ]
  },
  {
   "cell_type": "code",
   "execution_count": null,
   "metadata": {},
   "outputs": [],
   "source": []
  },
  {
   "cell_type": "code",
   "execution_count": null,
   "metadata": {},
   "outputs": [],
   "source": []
  },
  {
   "cell_type": "code",
   "execution_count": null,
   "metadata": {},
   "outputs": [],
   "source": []
  },
  {
   "cell_type": "code",
   "execution_count": 101,
   "metadata": {},
   "outputs": [
    {
     "data": {
      "text/plain": [
       "0.0007674316549236726"
      ]
     },
     "execution_count": 101,
     "metadata": {},
     "output_type": "execute_result"
    }
   ],
   "source": [
    "fname_p1 = folder + 'model_60_4_80_500_p1_p2_smc.csv'\n",
    "df_p = pd.read_csv(fname_p1)\n",
    "rho = df_p['rho_p1']\n",
    "rho = rho[:500]\n",
    "rho_delta = rho.diff()\n",
    "rho_delta = rho_delta[-10:]\n",
    "sum(abs(rho_delta))/100"
   ]
  },
  {
   "cell_type": "code",
   "execution_count": 114,
   "metadata": {},
   "outputs": [
    {
     "data": {
      "text/plain": [
       "[<matplotlib.lines.Line2D at 0x21357904518>]"
      ]
     },
     "execution_count": 114,
     "metadata": {},
     "output_type": "execute_result"
    },
    {
     "data": {
      "image/png": "[encoded data removed]",
      "text/plain": [
       "<Figure size 432x288 with 1 Axes>"
      ]
     },
     "metadata": {
      "needs_background": "light"
     },
     "output_type": "display_data"
    }
   ],
   "source": [
    "plt.plot(df_p['rho_p1'][800:50000])"
   ]
  },
  {
   "cell_type": "code",
   "execution_count": null,
   "metadata": {},
   "outputs": [],
   "source": []
  },
  {
   "cell_type": "code",
   "execution_count": null,
   "metadata": {},
   "outputs": [],
   "source": []
  },
  {
   "cell_type": "code",
   "execution_count": null,
   "metadata": {},
   "outputs": [],
   "source": []
  },
  {
   "cell_type": "code",
   "execution_count": null,
   "metadata": {},
   "outputs": [],
   "source": []
  },
  {
   "cell_type": "code",
   "execution_count": 270,
   "metadata": {},
   "outputs": [
    {
     "data": {
      "text/plain": [
       "580740    0.003496\n",
       "Name: rho_p6, dtype: float64"
      ]
     },
     "execution_count": 270,
     "metadata": {},
     "output_type": "execute_result"
    }
   ],
   "source": [
    "rho[-1:]"
   ]
  },
  {
   "cell_type": "code",
   "execution_count": null,
   "metadata": {},
   "outputs": [],
   "source": []
  },
  {
   "cell_type": "code",
   "execution_count": 5,
   "metadata": {},
   "outputs": [],
   "source": [
    "def get_close_gt(fname, p_column, gt_p, rolling_window=100, gt_closeness=0.001):\n",
    "    df_p = pd.read_csv(fname)\n",
    "    rho = df_p[p_column]\n",
    "    #print('last rho={}'.format(rho[-1:]))\n",
    "    # rho_windowed = rho.rolling(window=rolling_window).mean()\n",
    "    tmp = abs(rho - gt_p)<gt_closeness\n",
    "    cut_off = rho.index[tmp.rolling(rolling_window).sum()==rolling_window/2][0]\n",
    "    #cut_off = (tmp.index[tmp==True])[0]\n",
    "    plt.plot(df_p[p_column][800:100000])\n",
    "    print('delta={}'.format(max(df_p[p_column][800:100000])-min(df_p[p_column][800:100000])))\n",
    "    print(cut_off)"
   ]
  },
  {
   "cell_type": "code",
   "execution_count": 59,
   "metadata": {},
   "outputs": [],
   "source": [
    "def get_close_gt(fname, p_column, gt_p, rolling_window=100, gt_closeness=0.001):\n",
    "    df_p = pd.read_csv(fname)\n",
    "    rho = df_p[p_column]\n",
    "    #print('last rho={}'.format(rho[-1:]))\n",
    "    # rho_windowed = rho.rolling(window=rolling_window).mean()\n",
    "    rho_coeff = (rho[0:1000].mean())\n",
    "    print('rho_coeff={}'.format(rho_coeff))\n",
    "    \n",
    "    tmp = abs(rho - gt_p)\n",
    "    tmp = tmp.rolling(window=rolling_window).mean()<gt_closeness*rho_coeff\n",
    "    cut_off = rho.index[tmp.rolling(rolling_window).sum()==rolling_window/2][0]\n",
    "    #cut_off = (tmp.index[tmp==True])[0]\n",
    "    plt.plot(df_p[p_column][800:100000])\n",
    "    print('delta={}'.format(max(df_p[p_column][800:100000])-min(df_p[p_column][800:100000])))\n",
    "    print(cut_off)"
   ]
  },
  {
   "cell_type": "markdown",
   "metadata": {},
   "source": [
    "## M1"
   ]
  },
  {
   "cell_type": "code",
   "execution_count": 80,
   "metadata": {},
   "outputs": [
    {
     "name": "stdout",
     "output_type": "stream",
     "text": [
      "rho_coeff=0.33197772414898247\n",
      "delta=0.03357417277210961\n",
      "5371\n"
     ]
    },
    {
     "data": {
      "image/png": "[encoded data removed]",
      "text/plain": [
       "<Figure size 432x288 with 1 Axes>"
      ]
     },
     "metadata": {
      "needs_background": "light"
     },
     "output_type": "display_data"
    }
   ],
   "source": [
    "get_close_gt(folder + 'model_80_1_80_500_p1_p2_smc.csv', 'rho_p1', 0.291564, rolling_window=1000, gt_closeness=0.01)"
   ]
  },
  {
   "cell_type": "code",
   "execution_count": 79,
   "metadata": {},
   "outputs": [
    {
     "name": "stdout",
     "output_type": "stream",
     "text": [
      "rho_coeff=0.2370325791764895\n",
      "delta=0.026861563255849152\n",
      "5343\n"
     ]
    },
    {
     "data": {
      "image/png": "[encoded data removed]",
      "text/plain": [
       "<Figure size 432x288 with 1 Axes>"
      ]
     },
     "metadata": {
      "needs_background": "light"
     },
     "output_type": "display_data"
    }
   ],
   "source": [
    "get_close_gt(folder + 'model_80_1_80_500_p1_p2_smc.csv', 'rho_p2', 0.228, rolling_window=1000, gt_closeness=0.01)"
   ]
  },
  {
   "cell_type": "code",
   "execution_count": 78,
   "metadata": {},
   "outputs": [
    {
     "name": "stdout",
     "output_type": "stream",
     "text": [
      "rho_coeff=0.3695732933830571\n",
      "delta=0.026651030659534336\n",
      "2409\n"
     ]
    },
    {
     "data": {
      "image/png": "[encoded data removed]",
      "text/plain": [
       "<Figure size 432x288 with 1 Axes>"
      ]
     },
     "metadata": {
      "needs_background": "light"
     },
     "output_type": "display_data"
    }
   ],
   "source": [
    "get_close_gt(folder + 'model_80_1_80_500_p3_smc.csv', 'rho_p3', 0.38826, rolling_window=1000, gt_closeness=0.01)"
   ]
  },
  {
   "cell_type": "code",
   "execution_count": 77,
   "metadata": {},
   "outputs": [
    {
     "name": "stdout",
     "output_type": "stream",
     "text": [
      "rho_coeff=0.9071372281145337\n",
      "delta=0.01176608628017295\n",
      "1530\n"
     ]
    },
    {
     "data": {
      "image/png": "[encoded data removed]",
      "text/plain": [
       "<Figure size 432x288 with 1 Axes>"
      ]
     },
     "metadata": {
      "needs_background": "light"
     },
     "output_type": "display_data"
    }
   ],
   "source": [
    "get_close_gt(folder + 'model_80_1_80_500_p4_smc.csv', 'rho_p4', 0.902955, rolling_window=1000, gt_closeness=0.01)"
   ]
  },
  {
   "cell_type": "code",
   "execution_count": 76,
   "metadata": {},
   "outputs": [
    {
     "name": "stdout",
     "output_type": "stream",
     "text": [
      "rho_coeff=0.12178939605894569\n",
      "delta=0.02684196900290617\n",
      "5459\n"
     ]
    },
    {
     "data": {
      "image/png": "[encoded data removed]",
      "text/plain": [
       "<Figure size 432x288 with 1 Axes>"
      ]
     },
     "metadata": {
      "needs_background": "light"
     },
     "output_type": "display_data"
    }
   ],
   "source": [
    "get_close_gt(folder + 'model_80_1_80_500_p5_smc.csv', 'rho_p5', 0.097069, rolling_window=1000, gt_closeness=0.01)"
   ]
  },
  {
   "cell_type": "code",
   "execution_count": 75,
   "metadata": {},
   "outputs": [
    {
     "name": "stdout",
     "output_type": "stream",
     "text": [
      "rho_coeff=0.027955821015643426\n",
      "delta=0.006019273678953493\n",
      "104467\n"
     ]
    },
    {
     "data": {
      "image/png": "[encoded data removed]",
      "text/plain": [
       "<Figure size 432x288 with 1 Axes>"
      ]
     },
     "metadata": {
      "needs_background": "light"
     },
     "output_type": "display_data"
    }
   ],
   "source": [
    "get_close_gt(folder + 'model_80_1_80_500_p6_smc.csv', 'rho_p6', 0.01886, 1000, 0.01)"
   ]
  },
  {
   "cell_type": "markdown",
   "metadata": {},
   "source": [
    "## M2"
   ]
  },
  {
   "cell_type": "code",
   "execution_count": 81,
   "metadata": {},
   "outputs": [
    {
     "name": "stdout",
     "output_type": "stream",
     "text": [
      "rho_coeff=0.2185999021233915\n",
      "delta=0.014354281900899657\n",
      "3055\n"
     ]
    },
    {
     "data": {
      "image/png": "[encoded data removed]",
      "text/plain": [
       "<Figure size 432x288 with 1 Axes>"
      ]
     },
     "metadata": {
      "needs_background": "light"
     },
     "output_type": "display_data"
    }
   ],
   "source": [
    "get_close_gt(folder + 'model_60_4_80_500_p1_p2_smc.csv', 'rho_p1', 0.20554, rolling_window=1000, gt_closeness=0.01)"
   ]
  },
  {
   "cell_type": "code",
   "execution_count": 82,
   "metadata": {},
   "outputs": [
    {
     "name": "stdout",
     "output_type": "stream",
     "text": [
      "rho_coeff=0.2470063402034104\n",
      "delta=0.027296772465514957\n",
      "3833\n"
     ]
    },
    {
     "data": {
      "image/png": "[encoded data removed]",
      "text/plain": [
       "<Figure size 432x288 with 1 Axes>"
      ]
     },
     "metadata": {
      "needs_background": "light"
     },
     "output_type": "display_data"
    }
   ],
   "source": [
    "get_close_gt(folder + 'model_60_4_80_500_p1_p2_smc.csv', 'rho_p2', 0.259878, rolling_window=1000, gt_closeness=0.01)"
   ]
  },
  {
   "cell_type": "code",
   "execution_count": 83,
   "metadata": {},
   "outputs": [
    {
     "name": "stdout",
     "output_type": "stream",
     "text": [
      "rho_coeff=0.3867093468840775\n",
      "delta=0.021544667407249862\n",
      "4655\n"
     ]
    },
    {
     "data": {
      "image/png": "[encoded data removed]",
      "text/plain": [
       "<Figure size 432x288 with 1 Axes>"
      ]
     },
     "metadata": {
      "needs_background": "light"
     },
     "output_type": "display_data"
    }
   ],
   "source": [
    "get_close_gt(folder + 'model_60_4_80_500_p3_smc.csv', 'rho_p3', 0.389114, rolling_window=1000, gt_closeness=0.01)"
   ]
  },
  {
   "cell_type": "code",
   "execution_count": 84,
   "metadata": {},
   "outputs": [
    {
     "name": "stdout",
     "output_type": "stream",
     "text": [
      "rho_coeff=0.9408363855458547\n",
      "delta=0.009069422693164353\n",
      "1564\n"
     ]
    },
    {
     "data": {
      "image/png": "[encoded data removed]",
      "text/plain": [
       "<Figure size 432x288 with 1 Axes>"
      ]
     },
     "metadata": {
      "needs_background": "light"
     },
     "output_type": "display_data"
    }
   ],
   "source": [
    "get_close_gt(folder + 'model_60_4_80_500_p4_smc.csv', 'rho_p4', 0.957165, rolling_window=1000, gt_closeness=0.01)"
   ]
  },
  {
   "cell_type": "code",
   "execution_count": 85,
   "metadata": {},
   "outputs": [
    {
     "name": "stdout",
     "output_type": "stream",
     "text": [
      "rho_coeff=0.06121166870745253\n",
      "delta=0.01262544578443918\n",
      "45487\n"
     ]
    },
    {
     "data": {
      "image/png": "[encoded data removed]",
      "text/plain": [
       "<Figure size 432x288 with 1 Axes>"
      ]
     },
     "metadata": {
      "needs_background": "light"
     },
     "output_type": "display_data"
    }
   ],
   "source": [
    "get_close_gt(folder + 'model_60_4_80_500_p5_smc.csv', 'rho_p5', 0.050303, rolling_window=1000, gt_closeness=0.01)"
   ]
  },
  {
   "cell_type": "code",
   "execution_count": 86,
   "metadata": {},
   "outputs": [
    {
     "name": "stdout",
     "output_type": "stream",
     "text": [
      "rho_coeff=0.009847232641360414\n",
      "delta=0.002928203040173724\n",
      "8577\n"
     ]
    },
    {
     "data": {
      "image/png": "[encoded data removed]",
      "text/plain": [
       "<Figure size 432x288 with 1 Axes>"
      ]
     },
     "metadata": {
      "needs_background": "light"
     },
     "output_type": "display_data"
    }
   ],
   "source": [
    "get_close_gt(folder + 'model_60_4_80_500_p6_smc.csv', 'rho_p6', 0.003496, 1000, 0.01)"
   ]
  },
  {
   "cell_type": "code",
   "execution_count": 198,
   "metadata": {},
   "outputs": [
    {
     "data": {
      "text/plain": [
       "0         0.666667\n",
       "1         0.750000\n",
       "2         0.800000\n",
       "3         0.666667\n",
       "4         0.571429\n",
       "            ...   \n",
       "580736    0.389115\n",
       "580737    0.389114\n",
       "580738    0.389113\n",
       "580739    0.389113\n",
       "580740    0.389114\n",
       "Name: rho_p3, Length: 580741, dtype: float64"
      ]
     },
     "execution_count": 198,
     "metadata": {},
     "output_type": "execute_result"
    }
   ],
   "source": [
    "rho"
   ]
  },
  {
   "cell_type": "code",
   "execution_count": null,
   "metadata": {},
   "outputs": [],
   "source": []
  },
  {
   "cell_type": "code",
   "execution_count": 45,
   "metadata": {},
   "outputs": [
    {
     "name": "stdout",
     "output_type": "stream",
     "text": [
      "5723\n"
     ]
    }
   ],
   "source": [
    "# get_close_gt(folder + 'model_80_1_80_500_p6_smc.csv', 'rho_p6', 0.01886, 100, 0.0001)\n",
    "fname_p1 = folder + 'model_60_4_80_500_p6_smc.csv'\n",
    "p_column='rho_p6' \n",
    "gt_p=0.003496\n",
    "rolling_window=1000\n",
    "gt_closeness=0.0001\n",
    "    \n",
    "df_p = pd.read_csv(fname_p1)\n",
    "rho = df_p[p_column]\n",
    "rho_windowed = rho.rolling(window=rolling_window).mean()\n",
    "tmp = abs(rho_windowed - gt_p)<gt_closeness\n",
    "# tmp = abs(rho - gt_p)<gt_closeness\n",
    "cut_off = rho.index[tmp.rolling(rolling_window).sum()==rolling_window/2][0]\n",
    "print(cut_off)"
   ]
  },
  {
   "cell_type": "code",
   "execution_count": 51,
   "metadata": {},
   "outputs": [
    {
     "data": {
      "text/plain": [
       "0.0038314176245210726"
      ]
     },
     "execution_count": 51,
     "metadata": {},
     "output_type": "execute_result"
    }
   ],
   "source": []
  },
  {
   "cell_type": "code",
   "execution_count": 449,
   "metadata": {},
   "outputs": [
    {
     "data": {
      "text/plain": [
       "8.593671550128452e-05"
      ]
     },
     "execution_count": 449,
     "metadata": {},
     "output_type": "execute_result"
    }
   ],
   "source": [
    "abs(rho_windowed[5723]-gt_p)"
   ]
  },
  {
   "cell_type": "code",
   "execution_count": 450,
   "metadata": {},
   "outputs": [
    {
     "data": {
      "text/plain": [
       "[<matplotlib.lines.Line2D at 0x213009ecfd0>]"
      ]
     },
     "execution_count": 450,
     "metadata": {},
     "output_type": "execute_result"
    },
    {
     "data": {
      "image/png": "[encoded data removed]",
      "text/plain": [
       "<Figure size 432x288 with 1 Axes>"
      ]
     },
     "metadata": {
      "needs_background": "light"
     },
     "output_type": "display_data"
    }
   ],
   "source": [
    "plt.plot(df_p[p_column][800:50000])"
   ]
  },
  {
   "cell_type": "code",
   "execution_count": 408,
   "metadata": {},
   "outputs": [
    {
     "data": {
      "text/plain": [
       "[<matplotlib.lines.Line2D at 0x2130099e8d0>]"
      ]
     },
     "execution_count": 408,
     "metadata": {},
     "output_type": "execute_result"
    },
    {
     "data": {
      "image/png": "[encoded data removed]",
      "text/plain": [
       "<Figure size 432x288 with 1 Axes>"
      ]
     },
     "metadata": {
      "needs_background": "light"
     },
     "output_type": "display_data"
    }
   ],
   "source": [
    "plt.plot(rho_windowed[800:50000])"
   ]
  },
  {
   "cell_type": "code",
   "execution_count": null,
   "metadata": {},
   "outputs": [],
   "source": []
  },
  {
   "cell_type": "code",
   "execution_count": 347,
   "metadata": {},
   "outputs": [
    {
     "data": {
      "text/plain": [
       "0            NaN\n",
       "1            NaN\n",
       "2            NaN\n",
       "3            NaN\n",
       "4            NaN\n",
       "          ...   \n",
       "3995    0.019058\n",
       "3996    0.019068\n",
       "3997    0.019078\n",
       "3998    0.019089\n",
       "3999    0.019099\n",
       "Name: rho_p6, Length: 4000, dtype: float64"
      ]
     },
     "execution_count": 347,
     "metadata": {},
     "output_type": "execute_result"
    }
   ],
   "source": [
    "rho_windowed[:4000]"
   ]
  },
  {
   "cell_type": "code",
   "execution_count": 253,
   "metadata": {},
   "outputs": [
    {
     "data": {
      "text/plain": [
       "0         0.333333\n",
       "1         0.250000\n",
       "2         0.200000\n",
       "3         0.166667\n",
       "4         0.142857\n",
       "            ...   \n",
       "580736    0.003496\n",
       "580737    0.003496\n",
       "580738    0.003496\n",
       "580739    0.003496\n",
       "580740    0.003496\n",
       "Name: rho_p6, Length: 580741, dtype: float64"
      ]
     },
     "execution_count": 253,
     "metadata": {},
     "output_type": "execute_result"
    }
   ],
   "source": [
    "rho"
   ]
  },
  {
   "cell_type": "code",
   "execution_count": 255,
   "metadata": {},
   "outputs": [
    {
     "data": {
      "text/plain": [
       "0       0.333333\n",
       "1       0.250000\n",
       "2       0.200000\n",
       "3       0.166667\n",
       "4       0.142857\n",
       "          ...   \n",
       "2995    0.002335\n",
       "2996    0.002334\n",
       "2997    0.002333\n",
       "2998    0.002333\n",
       "2999    0.002332\n",
       "Name: rho_p6, Length: 3000, dtype: float64"
      ]
     },
     "execution_count": 255,
     "metadata": {},
     "output_type": "execute_result"
    }
   ],
   "source": [
    "rho[:3000]"
   ]
  },
  {
   "cell_type": "code",
   "execution_count": 240,
   "metadata": {},
   "outputs": [
    {
     "data": {
      "text/plain": [
       "0      False\n",
       "1      False\n",
       "2      False\n",
       "3      False\n",
       "4      False\n",
       "       ...  \n",
       "595    False\n",
       "596    False\n",
       "597    False\n",
       "598    False\n",
       "599    False\n",
       "Name: rho_p6, Length: 600, dtype: bool"
      ]
     },
     "execution_count": 240,
     "metadata": {},
     "output_type": "execute_result"
    }
   ],
   "source": [
    "tmp[:600]"
   ]
  },
  {
   "cell_type": "code",
   "execution_count": 244,
   "metadata": {},
   "outputs": [
    {
     "data": {
      "text/plain": [
       "0      False\n",
       "1      False\n",
       "2      False\n",
       "3      False\n",
       "4      False\n",
       "       ...  \n",
       "595    False\n",
       "596    False\n",
       "597    False\n",
       "598    False\n",
       "599    False\n",
       "Name: rho_p6, Length: 600, dtype: bool"
      ]
     },
     "execution_count": 244,
     "metadata": {},
     "output_type": "execute_result"
    }
   ],
   "source": [
    "(tmp.rolling(100).sum()==100)[:600]"
   ]
  },
  {
   "cell_type": "code",
   "execution_count": 251,
   "metadata": {},
   "outputs": [
    {
     "data": {
      "text/plain": [
       "62.0"
      ]
     },
     "execution_count": 251,
     "metadata": {},
     "output_type": "execute_result"
    }
   ],
   "source": [
    "(tmp.rolling(rolling_window).sum())[600]"
   ]
  },
  {
   "cell_type": "code",
   "execution_count": null,
   "metadata": {},
   "outputs": [],
   "source": []
  },
  {
   "cell_type": "code",
   "execution_count": null,
   "metadata": {},
   "outputs": [],
   "source": []
  },
  {
   "cell_type": "code",
   "execution_count": null,
   "metadata": {},
   "outputs": [],
   "source": []
  },
  {
   "cell_type": "code",
   "execution_count": 160,
   "metadata": {},
   "outputs": [],
   "source": [
    "tmp2 = rho_p1.rolling(window=50).mean()"
   ]
  },
  {
   "cell_type": "code",
   "execution_count": 321,
   "metadata": {},
   "outputs": [],
   "source": [
    "tmp = abs(tmp2 - gt_p)<0.01"
   ]
  },
  {
   "cell_type": "code",
   "execution_count": 322,
   "metadata": {},
   "outputs": [
    {
     "data": {
      "text/plain": [
       "0         False\n",
       "1         False\n",
       "2         False\n",
       "3         False\n",
       "4         False\n",
       "          ...  \n",
       "580736    False\n",
       "580737    False\n",
       "580738    False\n",
       "580739    False\n",
       "580740    False\n",
       "Name: rho_p2, Length: 580741, dtype: bool"
      ]
     },
     "execution_count": 322,
     "metadata": {},
     "output_type": "execute_result"
    }
   ],
   "source": [
    "tmp"
   ]
  },
  {
   "cell_type": "code",
   "execution_count": 179,
   "metadata": {},
   "outputs": [
    {
     "data": {
      "text/plain": [
       "997"
      ]
     },
     "execution_count": 179,
     "metadata": {},
     "output_type": "execute_result"
    }
   ],
   "source": [
    "rho_p1.index[tmp.rolling(100).sum()==100][0]"
   ]
  },
  {
   "cell_type": "code",
   "execution_count": 147,
   "metadata": {},
   "outputs": [
    {
     "data": {
      "text/plain": [
       "0              NaN\n",
       "1              NaN\n",
       "2              NaN\n",
       "3              NaN\n",
       "4         0.280476\n",
       "            ...   \n",
       "580736    0.205540\n",
       "580737    0.205541\n",
       "580738    0.205541\n",
       "580739    0.205541\n",
       "580740    0.205541\n",
       "Name: rho_p1, Length: 580741, dtype: float64"
      ]
     },
     "execution_count": 147,
     "metadata": {},
     "output_type": "execute_result"
    }
   ],
   "source": [
    "tmp2"
   ]
  },
  {
   "cell_type": "code",
   "execution_count": null,
   "metadata": {},
   "outputs": [],
   "source": []
  },
  {
   "cell_type": "code",
   "execution_count": null,
   "metadata": {},
   "outputs": [],
   "source": []
  },
  {
   "cell_type": "code",
   "execution_count": null,
   "metadata": {},
   "outputs": [],
   "source": []
  },
  {
   "cell_type": "markdown",
   "metadata": {},
   "source": [
    "## Normalized"
   ]
  },
  {
   "cell_type": "markdown",
   "metadata": {},
   "source": [
    "## M1"
   ]
  },
  {
   "cell_type": "code",
   "execution_count": 79,
   "metadata": {},
   "outputs": [
    {
     "data": {
      "text/plain": [
       "0.0012196216462066437"
      ]
     },
     "execution_count": 79,
     "metadata": {},
     "output_type": "execute_result"
    }
   ],
   "source": [
    "get_conv_rate(folder + 'model_80_1_80_500_p1_p2_smc.csv', 'rho_p1', 924, 10, True)"
   ]
  },
  {
   "cell_type": "code",
   "execution_count": 83,
   "metadata": {},
   "outputs": [
    {
     "data": {
      "text/plain": [
       "0.0007270159531569451"
      ]
     },
     "execution_count": 83,
     "metadata": {},
     "output_type": "execute_result"
    }
   ],
   "source": [
    "get_conv_rate(folder + 'model_80_1_80_500_p1_p2_smc.csv', 'rho_p2', 2232, 10, True)"
   ]
  },
  {
   "cell_type": "code",
   "execution_count": 84,
   "metadata": {},
   "outputs": [
    {
     "data": {
      "text/plain": [
       "0.0014545364065621541"
      ]
     },
     "execution_count": 84,
     "metadata": {},
     "output_type": "execute_result"
    }
   ],
   "source": [
    "get_conv_rate(folder + 'model_80_1_80_500_p3_smc.csv', 'rho_p3', 948, 10, True)"
   ]
  },
  {
   "cell_type": "code",
   "execution_count": 85,
   "metadata": {},
   "outputs": [
    {
     "data": {
      "text/plain": [
       "0.0002745601686046222"
      ]
     },
     "execution_count": 85,
     "metadata": {},
     "output_type": "execute_result"
    }
   ],
   "source": [
    "get_conv_rate(folder + 'model_80_1_80_500_p4_smc.csv', 'rho_p4', 689, 10, True)"
   ]
  },
  {
   "cell_type": "code",
   "execution_count": 86,
   "metadata": {},
   "outputs": [
    {
     "data": {
      "text/plain": [
       "0.0005165804968424505"
      ]
     },
     "execution_count": 86,
     "metadata": {},
     "output_type": "execute_result"
    }
   ],
   "source": [
    "get_conv_rate(folder + 'model_80_1_80_500_p5_smc.csv', 'rho_p5', 6821,  10, True)"
   ]
  },
  {
   "cell_type": "code",
   "execution_count": 87,
   "metadata": {},
   "outputs": [
    {
     "data": {
      "text/plain": [
       "2.8627866576306893e-05"
      ]
     },
     "execution_count": 87,
     "metadata": {},
     "output_type": "execute_result"
    }
   ],
   "source": [
    "get_conv_rate(folder + 'model_80_1_80_500_p6_smc.csv', 'rho_p6', 34930,  10, True)"
   ]
  },
  {
   "cell_type": "markdown",
   "metadata": {},
   "source": [
    "## M2"
   ]
  },
  {
   "cell_type": "code",
   "execution_count": 88,
   "metadata": {},
   "outputs": [
    {
     "data": {
      "text/plain": [
       "0.0033354138013614956"
      ]
     },
     "execution_count": 88,
     "metadata": {},
     "output_type": "execute_result"
    }
   ],
   "source": [
    "get_conv_rate(folder + 'model_60_4_80_500_p1_p2_smc.csv', 'rho_p1', 549,  10, True)"
   ]
  },
  {
   "cell_type": "code",
   "execution_count": 89,
   "metadata": {},
   "outputs": [
    {
     "data": {
      "text/plain": [
       "0.005856714465014675"
      ]
     },
     "execution_count": 89,
     "metadata": {},
     "output_type": "execute_result"
    }
   ],
   "source": [
    "get_conv_rate(folder + 'model_60_4_80_500_p1_p2_smc.csv', 'rho_p2', 381,  10, True)"
   ]
  },
  {
   "cell_type": "code",
   "execution_count": 90,
   "metadata": {},
   "outputs": [
    {
     "data": {
      "text/plain": [
       "0.004919983525174702"
      ]
     },
     "execution_count": 90,
     "metadata": {},
     "output_type": "execute_result"
    }
   ],
   "source": [
    "get_conv_rate(folder + 'model_60_4_80_500_p3_smc.csv', 'rho_p3', 260,  10, True)"
   ]
  },
  {
   "cell_type": "code",
   "execution_count": 91,
   "metadata": {},
   "outputs": [
    {
     "data": {
      "text/plain": [
       "0.00013425431795450015"
      ]
     },
     "execution_count": 91,
     "metadata": {},
     "output_type": "execute_result"
    }
   ],
   "source": [
    "get_conv_rate(folder + 'model_60_4_80_500_p4_smc.csv', 'rho_p4', 399,  10, True)"
   ]
  },
  {
   "cell_type": "code",
   "execution_count": 92,
   "metadata": {},
   "outputs": [
    {
     "data": {
      "text/plain": [
       "0.0002529367881277443"
      ]
     },
     "execution_count": 92,
     "metadata": {},
     "output_type": "execute_result"
    }
   ],
   "source": [
    "get_conv_rate(folder + 'model_60_4_80_500_p5_smc.csv', 'rho_p5', 10703,  10, True)"
   ]
  },
  {
   "cell_type": "code",
   "execution_count": 93,
   "metadata": {},
   "outputs": [
    {
     "data": {
      "text/plain": [
       "6.127800738185696e-09"
      ]
     },
     "execution_count": 93,
     "metadata": {},
     "output_type": "execute_result"
    }
   ],
   "source": [
    "get_conv_rate(folder + 'model_60_4_80_500_p6_smc.csv', 'rho_p6', 53591, True)"
   ]
  }
 ],
 "metadata": {
  "kernelspec": {
   "display_name": "Python 3",
   "language": "python",
   "name": "python3"
  },
  "language_info": {
   "codemirror_mode": {
    "name": "ipython",
    "version": 3
   },
   "file_extension": ".py",
   "mimetype": "text/x-python",
   "name": "python",
   "nbconvert_exporter": "python",
   "pygments_lexer": "ipython3",
   "version": "3.7.4"
  }
 },
 "nbformat": 4,
 "nbformat_minor": 4
}
