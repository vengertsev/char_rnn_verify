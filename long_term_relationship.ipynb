{
 "cells": [
  {
   "cell_type": "code",
   "execution_count": 3,
   "metadata": {},
   "outputs": [],
   "source": [
    "import h5py\n",
    "import pandas as pd\n",
    "import numpy as np\n",
    "import matplotlib\n",
    "import matplotlib.pyplot as plt\n",
    "import random"
   ]
  },
  {
   "cell_type": "code",
   "execution_count": 4,
   "metadata": {},
   "outputs": [],
   "source": [
    "fname_long_term = 'E:\\Dima\\PhD\\Papers\\data\\states\\states_model_80_1_80_500_long_term.h5py'\n",
    "fname_original = 'E:\\Dima\\PhD\\Papers\\data\\states\\states_model_80_1_80_500.h5py'\n",
    "tokens_file = 'E:/Dima/PhD/Papers/data/states/tokens_index_model_80_1_80_500_long_term.csv'"
   ]
  },
  {
   "cell_type": "code",
   "execution_count": 5,
   "metadata": {},
   "outputs": [
    {
     "data": {
      "text/html": [
       "<div>\n",
       "<style scoped>\n",
       "    .dataframe tbody tr th:only-of-type {\n",
       "        vertical-align: middle;\n",
       "    }\n",
       "\n",
       "    .dataframe tbody tr th {\n",
       "        vertical-align: top;\n",
       "    }\n",
       "\n",
       "    .dataframe thead th {\n",
       "        text-align: right;\n",
       "    }\n",
       "</style>\n",
       "<table border=\"1\" class=\"dataframe\">\n",
       "  <thead>\n",
       "    <tr style=\"text-align: right;\">\n",
       "      <th></th>\n",
       "      <th>id</th>\n",
       "      <th>token</th>\n",
       "      <th>long_term_token</th>\n",
       "    </tr>\n",
       "  </thead>\n",
       "  <tbody>\n",
       "    <tr>\n",
       "      <th>0</th>\n",
       "      <td>0</td>\n",
       "      <td>preface   supposing that truth is a womanwhat ...</td>\n",
       "      <td>preface   supposing that truth is a womanwhat ...</td>\n",
       "    </tr>\n",
       "    <tr>\n",
       "      <th>1</th>\n",
       "      <td>1</td>\n",
       "      <td>reface   supposing that truth is a womanwhat t...</td>\n",
       "      <td>reface   supposing that truth is a womanwhat t...</td>\n",
       "    </tr>\n",
       "    <tr>\n",
       "      <th>2</th>\n",
       "      <td>2</td>\n",
       "      <td>eface   supposing that truth is a womanwhat th...</td>\n",
       "      <td>eface   supposing that truth is a womanwhat th...</td>\n",
       "    </tr>\n",
       "    <tr>\n",
       "      <th>3</th>\n",
       "      <td>3</td>\n",
       "      <td>face   supposing that truth is a womanwhat the...</td>\n",
       "      <td>face   supposing that truth is a womanwhat the...</td>\n",
       "    </tr>\n",
       "    <tr>\n",
       "      <th>4</th>\n",
       "      <td>4</td>\n",
       "      <td>ace   supposing that truth is a womanwhat then...</td>\n",
       "      <td>ace   supposing that truth is a womanwhat then...</td>\n",
       "    </tr>\n",
       "  </tbody>\n",
       "</table>\n",
       "</div>"
      ],
      "text/plain": [
       "   id                                              token  \\\n",
       "0   0  preface   supposing that truth is a womanwhat ...   \n",
       "1   1  reface   supposing that truth is a womanwhat t...   \n",
       "2   2  eface   supposing that truth is a womanwhat th...   \n",
       "3   3  face   supposing that truth is a womanwhat the...   \n",
       "4   4  ace   supposing that truth is a womanwhat then...   \n",
       "\n",
       "                                     long_term_token  \n",
       "0  preface   supposing that truth is a womanwhat ...  \n",
       "1  reface   supposing that truth is a womanwhat t...  \n",
       "2  eface   supposing that truth is a womanwhat th...  \n",
       "3  face   supposing that truth is a womanwhat the...  \n",
       "4  ace   supposing that truth is a womanwhat then...  "
      ]
     },
     "execution_count": 5,
     "metadata": {},
     "output_type": "execute_result"
    }
   ],
   "source": [
    "m = h5py.File(fname_long_term, 'r')\n",
    "f = h5py.File(fname_original, 'r')\n",
    "df_tokens = pd.read_csv(tokens_file)\n",
    "df_tokens.head()"
   ]
  },
  {
   "cell_type": "code",
   "execution_count": 6,
   "metadata": {},
   "outputs": [],
   "source": [
    "p_long_term = max(m['y_' + str(20)][()])"
   ]
  },
  {
   "cell_type": "code",
   "execution_count": 7,
   "metadata": {},
   "outputs": [],
   "source": [
    "p_original = max(f['y_' + str(20)][()])"
   ]
  },
  {
   "cell_type": "code",
   "execution_count": 8,
   "metadata": {},
   "outputs": [],
   "source": [
    "k = 0\n",
    "prob_original_list = []\n",
    "prob_long_term_list = []\n",
    "p5_satisfies = []\n",
    "\n",
    "for elem_id, row in df_tokens.iterrows():\n",
    "    elem = row[1]  # long term string\n",
    "    p_long_term = max(m['y_' + str(elem_id)][()])\n",
    "    p_original = max(f['y_' + str(elem_id)][()])\n",
    "    \n",
    "    if (p_original > 0.7) & (p_long_term > 0.65):\n",
    "        p5_satisfies.append(1)\n",
    "    else:\n",
    "        p5_satisfies.append(0)\n",
    "    \n",
    "    prob_long_term_list.append(p_long_term)\n",
    "    prob_original_list.append(p_original)    \n",
    "    \n",
    "    k = k + 1\n",
    "#     if k % 1000 == 0:\n",
    "#         print(\"elem = {}. k = {}.\".format(elem, k))"
   ]
  },
  {
   "cell_type": "code",
   "execution_count": 36,
   "metadata": {},
   "outputs": [
    {
     "data": {
      "text/plain": [
       "80"
      ]
     },
     "execution_count": 36,
     "metadata": {},
     "output_type": "execute_result"
    }
   ],
   "source": [
    "len(f['h_' + str(elem_id)][()][0][0])"
   ]
  },
  {
   "cell_type": "code",
   "execution_count": 9,
   "metadata": {},
   "outputs": [
    {
     "data": {
      "text/plain": [
       "580741"
      ]
     },
     "execution_count": 9,
     "metadata": {},
     "output_type": "execute_result"
    }
   ],
   "source": [
    "len(p5_satisfies)"
   ]
  },
  {
   "cell_type": "code",
   "execution_count": 27,
   "metadata": {},
   "outputs": [
    {
     "data": {
      "text/plain": [
       "0.3843365631150547"
      ]
     },
     "execution_count": 27,
     "metadata": {},
     "output_type": "execute_result"
    }
   ],
   "source": [
    "2232/580741*100"
   ]
  },
  {
   "cell_type": "code",
   "execution_count": 10,
   "metadata": {},
   "outputs": [
    {
     "data": {
      "text/plain": [
       "0    524370\n",
       "1     56371\n",
       "Name: p5_satisfies, dtype: int64"
      ]
     },
     "execution_count": 10,
     "metadata": {},
     "output_type": "execute_result"
    }
   ],
   "source": [
    "df = pd.DataFrame({'p5_satisfies':p5_satisfies})\n",
    "df.p5_satisfies.value_counts()"
   ]
  },
  {
   "cell_type": "code",
   "execution_count": 11,
   "metadata": {},
   "outputs": [
    {
     "data": {
      "text/plain": [
       "9.706736738063956"
      ]
     },
     "execution_count": 11,
     "metadata": {},
     "output_type": "execute_result"
    }
   ],
   "source": [
    "56371/df_tokens.shape[0]*100"
   ]
  },
  {
   "cell_type": "markdown",
   "metadata": {},
   "source": [
    "# SMC"
   ]
  },
  {
   "cell_type": "code",
   "execution_count": 12,
   "metadata": {},
   "outputs": [],
   "source": [
    "def get_nu_rho(n_satisfies, n_sampled_so_far, alpha, beta):\n",
    "    ro = (n_satisfies + alpha) / (n_sampled_so_far + alpha + beta)\n",
    "    nu = np.sqrt(((alpha + n_satisfies) * (n_sampled_so_far - n_satisfies + beta)) / (\n",
    "            pow((alpha + n_sampled_so_far + beta), 2) * (alpha + n_sampled_so_far + beta + 1)))\n",
    "    return ro, nu"
   ]
  },
  {
   "cell_type": "code",
   "execution_count": 14,
   "metadata": {},
   "outputs": [],
   "source": [
    "# calculate time\n",
    "elements_num = df_tokens.shape[0]\n",
    "tmp = list(range(0, elements_num))\n",
    "tokens_indx_rand = tmp.copy()\n",
    "random.seed(42)\n",
    "random.shuffle(tokens_indx_rand)\n",
    "alpha = 1\n",
    "beta = 1\n",
    "\n",
    "n_satisfies_p5_list = []\n",
    "n_sampled_so_far_list = []\n",
    "\n",
    "smc_ro_estimates_p5 = []\n",
    "smc_nu_estimates_p5 = []\n",
    "\n",
    "n_satisfies_p5 = 0\n",
    "n_sampled_so_far = 0\n",
    "\n",
    "k = 0\n",
    "\n",
    "for i in tokens_indx_rand:\n",
    "    # TODO: vectorize this function using apply()\n",
    "    # should be cumulative group by operation\n",
    "\n",
    "    if p5_satisfies[i] == 1:\n",
    "        n_satisfies_p5 = n_satisfies_p5 + 1\n",
    "\n",
    "    n_sampled_so_far = n_sampled_so_far + 1\n",
    "    rho_p5, nu_p5 = get_nu_rho(n_satisfies_p5, n_sampled_so_far, alpha, beta)\n",
    "\n",
    "    n_satisfies_p5_list.append(n_satisfies_p5)\n",
    "    n_sampled_so_far_list.append(n_sampled_so_far)\n",
    "\n",
    "    smc_ro_estimates_p5.append(rho_p5)\n",
    "    smc_nu_estimates_p5.append(nu_p5)\n",
    "#     if k % 1000 == 0:\n",
    "#         print(\" k = {}.\".format(k))\n",
    "#     k = k + 1\n",
    "    \n",
    "_df_p5_smc = pd.DataFrame({'token_id': tokens_indx_rand,\n",
    "                          'satisfies_p5': n_satisfies_p5_list,\n",
    "                          'sampled': n_sampled_so_far_list,\n",
    "                          'rho_p5': smc_ro_estimates_p5,\n",
    "                          'nu_p5': smc_nu_estimates_p5\n",
    "                          })"
   ]
  },
  {
   "cell_type": "code",
   "execution_count": 16,
   "metadata": {},
   "outputs": [
    {
     "data": {
      "text/plain": [
       "(580741, 5)"
      ]
     },
     "execution_count": 16,
     "metadata": {},
     "output_type": "execute_result"
    }
   ],
   "source": [
    "_df_p5_smc.shape"
   ]
  },
  {
   "cell_type": "code",
   "execution_count": 15,
   "metadata": {},
   "outputs": [],
   "source": [
    "model_base_name = 'model_80_1_80_500'\n",
    "verify_results_folder='E:/Dima/PhD/Papers/data/verify_results/'"
   ]
  },
  {
   "cell_type": "code",
   "execution_count": 17,
   "metadata": {},
   "outputs": [],
   "source": [
    "_df_p5_smc.to_csv(verify_results_folder + \"/\" + model_base_name + \"_p5_smc.csv\", index=False)"
   ]
  },
  {
   "cell_type": "code",
   "execution_count": null,
   "metadata": {},
   "outputs": [],
   "source": []
  }
 ],
 "metadata": {
  "kernelspec": {
   "display_name": "Python 3",
   "language": "python",
   "name": "python3"
  },
  "language_info": {
   "codemirror_mode": {
    "name": "ipython",
    "version": 3
   },
   "file_extension": ".py",
   "mimetype": "text/x-python",
   "name": "python",
   "nbconvert_exporter": "python",
   "pygments_lexer": "ipython3",
   "version": "3.7.3"
  }
 },
 "nbformat": 4,
 "nbformat_minor": 4
}
